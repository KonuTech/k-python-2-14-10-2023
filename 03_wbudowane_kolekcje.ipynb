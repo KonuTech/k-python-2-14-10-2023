{
 "cells": [
  {
   "cell_type": "code",
   "execution_count": 1,
   "id": "88f2619b",
   "metadata": {},
   "outputs": [
    {
     "data": {
      "text/latex": [
       "\\tableofcontents\n"
      ],
      "text/plain": [
       "<IPython.core.display.Latex object>"
      ]
     },
     "metadata": {},
     "output_type": "display_data"
    }
   ],
   "source": [
    "%%latex\n",
    "\\tableofcontents"
   ]
  },
  {
   "cell_type": "markdown",
   "id": "c78e0b7e",
   "metadata": {},
   "source": [
    "# Podstawy\n",
    "\n",
    "[link](01_interpreter_slowa_kluczowe_operatory.ipynb)\n",
    "\n",
    "# Wbudowane typy\n",
    "\n",
    "[link](02_wbudowane_typy.ipynb)\n",
    "\n",
    "# Wbudowane kolekcje\n",
    "\n",
    "[link](03_wbudowane_kolekcje.ipynb)"
   ]
  },
  {
   "cell_type": "markdown",
   "id": "a09e6c54-34a3-463d-af51-e8f70bcb6638",
   "metadata": {},
   "source": [
    "## Tuple w Pythonie\n",
    "\n",
    "\n",
    "Tuple, nazywane również krotkami, są jednym z podstawowych typów sekwencyjnych w Pythonie. Podobnie jak listy, tuple pozwalają przechowywać różnorodne elementy w jednej strukturze. Najważniejsza różnica polega jednak na tym, że tuple są niemutowalne, co oznacza, że raz utworzone, ich zawartość nie może być modyfikowana.\n",
    "\n",
    "### Definiowanie tuple\n",
    "\n",
    "Tuple definiuje się, umieszczając elementy w nawiasach okrągłych `( )`:\n",
    "\n",
    "```python\n",
    "my_tuple = (1, 2, 3)\n",
    "print(my_tuple)  # Wynik: (1, 2, 3)\n",
    "```\n",
    "\n",
    "Można również zdefiniować tuple bez nawiasów:\n",
    "\n",
    "```python\n",
    "another_tuple = 4, 5, 6\n",
    "print(another_tuple)  # Wynik: (4, 5, 6)\n",
    "```\n",
    "\n",
    "Aby zdefiniować tuple z jednym elementem, konieczne jest dodanie przecinka po tym elemencie:\n",
    "\n",
    "```python\n",
    "single_element_tuple = (7,)\n",
    "print(single_element_tuple)  # Wynik: (7,)\n",
    "```\n",
    "### Długość tupli\n",
    "\n",
    "```python\n",
    "len(my_tuple)\n",
    "```\n",
    "\n",
    "### Dostęp do elementów tuple\n",
    "\n",
    "Podobnie jak w listach, do elementów tuple dostęp uzyskujemy za pomocą indeksu:\n",
    "\n",
    "```python\n",
    "my_tuple = (1, 2, 3, 4, 5)\n",
    "print(my_tuple[2])  # Wynik: 3\n",
    "```\n",
    "\n",
    "### Niemutowalność tuple\n",
    "\n",
    "Próba modyfikacji zawartości tuple skończy się błędem:\n",
    "\n",
    "```python\n",
    "my_tuple = (1, 2, 3)\n",
    "my_tuple[1] = 4  # TypeError: 'tuple' object does not support item assignment\n",
    "```\n",
    "\n",
    "Niemniej jednak, jeśli tuple zawiera obiekt mutowalny, jak lista, możemy modyfikować ten obiekt:\n",
    "\n",
    "```python\n",
    "complex_tuple = (1, [2, 3], 4)\n",
    "complex_tuple[1][0] = 10\n",
    "print(complex_tuple)  # Wynik: (1, [10, 3], 4)\n",
    "```\n",
    "\n",
    "### Zastosowanie tuple\n",
    "\n",
    "Dzięki niemutowalności tuple są idealne do przechowywania danych, które nie powinny być modyfikowane. Są one także często używane w funkcjach, które zwracają wiele wartości.\n",
    "\n",
    "```python\n",
    "def multiple_values():\n",
    "    return 1, 2, 3\n",
    "\n",
    "result = multiple_values()\n",
    "print(result)  # Wynik: (1, 2, 3)\n",
    "```\n",
    "\n",
    "### Działanie operatorów\n",
    "\n",
    "Tupla (tuple) to kolekcja uporządkowanych elementów, która jest niemodyfikowalna (immutable). Oto operatory, które działają na typie `tuple`:\n",
    "\n",
    "1. **Konkatenacja (`+`)**: Łączy dwie tuple w jedną.\n",
    "    ```python\n",
    "    t1 = (1, 2, 3)\n",
    "    t2 = (4, 5, 6)\n",
    "    t3 = t1 + t2  # (1, 2, 3, 4, 5, 6)\n",
    "    ```\n",
    "\n",
    "2. **Mnożenie (`*`)**: Powiela tuple określoną liczbę razy.\n",
    "    ```python\n",
    "    t1 = (1, 2, 3)\n",
    "    t2 = t1 * 3  # (1, 2, 3, 1, 2, 3, 1, 2, 3)\n",
    "    ```\n",
    "\n",
    "3. **Operatory porównania**: Takie jak `==`, `!=`, `<`, `<=`, `>`, `>=` działają na tuplach, porównując je element po elemencie.\n",
    "    ```python\n",
    "    t1 = (1, 2, 3)\n",
    "    t2 = (1, 2, 4)\n",
    "    print(t1 < t2)  # True, ponieważ 3 < 4\n",
    "    ```\n",
    "\n",
    "4. **Operator przynależności (`in`)**: Sprawdza, czy dany element jest w tupli.\n",
    "    ```python\n",
    "    t = (1, 2, 3, 4, 5)\n",
    "    print(3 in t)  # True\n",
    "    ```\n",
    "\n",
    "5. **Indeksowanie (`[]`)**: Umożliwia dostęp do elementu tuple na podstawie jego indeksu.\n",
    "    ```python\n",
    "    t = (1, 2, 3, 4, 5)\n",
    "    print(t[2])  # 3\n",
    "    ```\n",
    "\n",
    "6. **Wycinanie (`[:]`)**: Umożliwia uzyskanie podtuple na podstawie zakresu indeksów.\n",
    "    ```python\n",
    "    t = (1, 2, 3, 4, 5)\n",
    "    print(t[1:4])  # (2, 3, 4)\n",
    "    ```\n",
    "\n",
    "7. **Rozpakowywanie**: Możemy przypisać wartości z tuple do odpowiednich zmiennych.\n",
    "    ```python\n",
    "    t = (1, 2, 3)\n",
    "    a, b, c = t\n",
    "    print(a)  # 1\n",
    "    print(b)  # 2\n",
    "    ```\n",
    "\n",
    "Warto również pamiętać, że ponieważ tuple są niemodyfikowalne, nie ma operatorów, które by modyfikowały ich zawartość (takich jak dodawanie elementu czy usuwanie elementu)."
   ]
  },
  {
   "cell_type": "markdown",
   "id": "ac69397b-8423-4246-b4e6-519985851cc9",
   "metadata": {},
   "source": [
    "### metody krotek\n",
    "\n",
    "* **`count()`**: Zwraca liczbę wystąpień danego elementu na liście.\n",
    "\n",
    "    ```python\n",
    "    tuple1 = (1, 2, 3, 2, 4, 2)\n",
    "    count_of_2 = tuple1.count(2)\n",
    "    print(count_of_2)  # 3\n",
    "    ```\n",
    "\n",
    "* **`index()`**: Zwraca indeks pierwszego wystąpienia określonego elementu. Jeśli elementu nie ma na krotce, zostanie zgłoszony wyjątek `ValueError`.\n",
    "\n",
    "Przykład:\n",
    "\n",
    "```python\n",
    "tuple1 = (1, 2, 3, 2, 4, 2)\n",
    "index_of_3 = tuple1.index(3)\n",
    "print(index_of_3)  # 2\n",
    "\n",
    "index_of_2 = tuple1.index(2)\n",
    "print(index_of_2)  # 1\n",
    "```\n",
    "\n",
    "Możesz również określić indeks początkowy i końcowy, między którymi chcesz szukać.\n",
    "```python\n",
    "index_of_2_after_3 = tuple1.index(2, 3)  # szukaj 2 po indeksie 3\n",
    "print(index_of_2_after_3)  # 3\n",
    "```\n",
    "\n",
    "Jeśli próbujesz znaleźć element, który nie istnieje w tupli, otrzymasz błąd:\n",
    "\n",
    "```python\n",
    "# tuple1.index(5)  # zgłosi ValueError: 5 is not in list\n",
    "```\n",
    "\n",
    "Metoda `index()` jest bardzo przydatna, gdy chcesz dowiedzieć się, gdzie dokładnie w tupli znajduje się określony element."
   ]
  },
  {
   "cell_type": "markdown",
   "id": "4062519e-efd0-4c08-8c6d-ef23c91e1e63",
   "metadata": {},
   "source": [
    "### Cwiczenie\n",
    "Zwroc indexy zadanej wartosc w zadanej liscie\n",
    "\n",
    "```\n",
    "lista = (2, 3, 1, 25, 6, 1, 232, 34, 1, 232)\n",
    "```\n",
    "napisz funkcję, która przyjmie dwa arg\n",
    "\n",
    "```\n",
    "assert znajdz_pozycje(lista, 1) == (2, 5, 8)\n",
    "```\n",
    "wykorzystaj do tego .index"
   ]
  },
  {
   "cell_type": "code",
   "execution_count": 2,
   "id": "7ab643aa-ec65-42b8-b908-a2bd9f7b353e",
   "metadata": {},
   "outputs": [],
   "source": [
    "# def find_indexes(collection: List[int] | Tuple[int]) -> Tuple[int]:"
   ]
  },
  {
   "cell_type": "code",
   "execution_count": null,
   "id": "edac4e8f-0866-44c3-864d-38ada7059334",
   "metadata": {},
   "outputs": [],
   "source": []
  },
  {
   "cell_type": "markdown",
   "id": "89597bbe-fcbb-4b10-9dd6-08e08a73c8da",
   "metadata": {},
   "source": [
    "### Podsumowanie\n",
    "\n",
    "Tuple są wszechstronnym i niezmiennym typem danych w Pythonie, który znajduje zastosowanie w wielu sytuacjach. Choć na pierwszy rzut oka mogą wydawać się podobne do list, ich niemutowalność nadaje im unikalnych właściwości i czyni je niezbędnym narzędziem w arsenale programisty Pythona."
   ]
  },
  {
   "cell_type": "code",
   "execution_count": 3,
   "id": "79ff92a6-7ea7-4592-8560-dfd811e930f0",
   "metadata": {},
   "outputs": [],
   "source": [
    "a, b, c = 1, 2, 3"
   ]
  },
  {
   "cell_type": "code",
   "execution_count": 4,
   "id": "e3ec1bd4-f897-469f-95b5-c38081310f3c",
   "metadata": {},
   "outputs": [],
   "source": [
    "a, *b, c= 1, 2, 3, 4"
   ]
  },
  {
   "cell_type": "code",
   "execution_count": 5,
   "id": "38a28af6-c7a0-423f-8eb8-4c29e93069cb",
   "metadata": {},
   "outputs": [
    {
     "data": {
      "text/plain": [
       "(1, [2, 3], 4)"
      ]
     },
     "execution_count": 5,
     "metadata": {},
     "output_type": "execute_result"
    }
   ],
   "source": [
    "a, b, c"
   ]
  },
  {
   "cell_type": "code",
   "execution_count": 6,
   "id": "b21820da-7974-4a94-920c-a0cacd87fb63",
   "metadata": {},
   "outputs": [
    {
     "name": "stdout",
     "output_type": "stream",
     "text": [
      "<class 'tuple'>\n"
     ]
    }
   ],
   "source": [
    "x = (1,)\n",
    "\n",
    "print(type(x))"
   ]
  },
  {
   "cell_type": "code",
   "execution_count": 7,
   "id": "9e25fe7f-45a3-402b-8ee7-79cf91c5efc5",
   "metadata": {},
   "outputs": [
    {
     "data": {
      "text/plain": [
       "()"
      ]
     },
     "execution_count": 7,
     "metadata": {},
     "output_type": "execute_result"
    }
   ],
   "source": [
    "tuple()"
   ]
  },
  {
   "cell_type": "markdown",
   "id": "e2eb7683-0fb1-4b50-a7b8-954a5a1d6d9a",
   "metadata": {},
   "source": [
    "## Typ `list` w Pythonie\n",
    "\n",
    "\n",
    "W Pythonie `list` to kolekcja uporządkowanych elementów, które można modyfikować. Lista jest bardzo podobna do tupli (`tuple`), ale z jedną istotną różnicą: listy są modyfikowalne (mutable), podczas gdy tuple są niemodyfikowalne (immutable).\n",
    "\n",
    "### Tworzenie list\n",
    "\n",
    "Listę tworzymy, umieszczając elementy w nawiasach kwadratowych `[]`, oddzielając je przecinkami:\n",
    "```python\n",
    "my_list = [1, 2, 3, 4, 5]\n",
    "\n",
    "\n",
    "```"
   ]
  },
  {
   "cell_type": "code",
   "execution_count": 8,
   "id": "3454c4bd-8a3d-4625-99f7-ba0f39c09f0d",
   "metadata": {},
   "outputs": [
    {
     "data": {
      "text/plain": [
       "['a', 'a', 'a', 'a']"
      ]
     },
     "execution_count": 8,
     "metadata": {},
     "output_type": "execute_result"
    }
   ],
   "source": [
    "list(\"aaaa\")"
   ]
  },
  {
   "cell_type": "markdown",
   "id": "f9fb9b27-a5fb-4d7a-bb01-762b627293e2",
   "metadata": {},
   "source": [
    "### Różnice między `list` a `tuple`\n",
    "\n",
    "Główna różnica polega na tym, że elementy listy można modyfikować, a tupli nie. Oznacza to, że można dodawać, usuwać i zmieniać elementy listy po jej utworzeniu.\n",
    "\n",
    "### Wzajemne przekształcenia\n",
    "\n",
    "Aby przekształcić listę w tuplę lub odwrotnie, użyj funkcji `list()` lub `tuple()`:\n",
    "```python\n",
    "my_tuple = (1, 2, 3)\n",
    "list_from_tuple = list(my_tuple)\n",
    "\n",
    "my_list = [4, 5, 6]\n",
    "tuple_from_list = tuple(my_list)\n",
    "```"
   ]
  },
  {
   "cell_type": "markdown",
   "id": "7dfe880f-4bf5-4930-bd12-3e9349adfc2f",
   "metadata": {},
   "source": [
    "### Płytkie vs głębokie kopie\n",
    "\n",
    "Kiedy kopiujemy listę, możemy stworzyć albo płytką kopię, albo głęboką kopię:\n",
    "\n",
    "1. **Płytkie kopie** - kopiuje się tylko nadrzędny obiekt, nie jego wewnętrzne obiekty (np. listy zagnieżdżone). Zmiana zagnieżdżonej listy w kopii wpłynie również na oryginał. Możemy stworzyć płytką kopię używając metody `copy()` lub wycinania `[:]`.\n",
    "    ```python\n",
    "    original = [1, 2, [3, 4]]\n",
    "    shallow_copy = original.copy()\n",
    "\n",
    "    shallow_copy[2][0] = 99\n",
    "    print(original)  # [1, 2, [99, 4]]\n",
    "    ```\n",
    "\n",
    "2. **Głębokie kopie** - kopiuje się nadrzędny obiekt oraz wszystkie wewnętrzne obiekty. Zmiany w kopii nie wpłyną na oryginał. Aby stworzyć głęboką kopię, użyj modułu `copy` i funkcji `deepcopy`.\n",
    "    ```python\n",
    "    from copy import deepcopy\n",
    "\n",
    "    original = [1, 2, [3, 4]]\n",
    "    deep_copy = deepcopy(original)\n",
    "\n",
    "    deep_copy[2][0] = 99\n",
    "    print(original)  # [1, 2, [3, 4]]\n",
    "    ```"
   ]
  },
  {
   "cell_type": "code",
   "execution_count": 9,
   "id": "e06b9b45-c861-46ac-99c3-1a5e9ba0e652",
   "metadata": {},
   "outputs": [],
   "source": [
    "x1 = [1, 2, 3]"
   ]
  },
  {
   "cell_type": "code",
   "execution_count": 10,
   "id": "7e01557e-f7dc-4ec5-8b6c-430a7cca889c",
   "metadata": {},
   "outputs": [
    {
     "data": {
      "text/plain": [
       "(4591636928, 4591635840)"
      ]
     },
     "execution_count": 10,
     "metadata": {},
     "output_type": "execute_result"
    }
   ],
   "source": [
    "id(x1[:]), id(x1)"
   ]
  },
  {
   "cell_type": "code",
   "execution_count": 11,
   "id": "44b3cf15-5463-4682-b06d-3b6fc8a1733f",
   "metadata": {},
   "outputs": [
    {
     "data": {
      "text/plain": [
       "[1, 2, 3, 30]"
      ]
     },
     "execution_count": 11,
     "metadata": {},
     "output_type": "execute_result"
    }
   ],
   "source": [
    "y1 = x1\n",
    "\n",
    "x1.append(30)\n",
    "\n",
    "y1"
   ]
  },
  {
   "cell_type": "code",
   "execution_count": 12,
   "id": "322a440a-b024-405d-a715-f270a41f6276",
   "metadata": {},
   "outputs": [
    {
     "data": {
      "text/plain": [
       "[1, 2, 3, [1, 2, 3]]"
      ]
     },
     "execution_count": 12,
     "metadata": {},
     "output_type": "execute_result"
    }
   ],
   "source": [
    "import copy\n",
    "\n",
    "\n",
    "x1 = [1, 2, 3]\n",
    "x2 = [1, 2, 3, x1]\n",
    "y2 = x2[:]\n",
    "y3 = copy.deepcopy(x2)\n",
    "\n",
    "x1.append(10)\n",
    "y3"
   ]
  },
  {
   "cell_type": "code",
   "execution_count": 13,
   "id": "38719121-c1f4-4bfb-a106-920ceec93127",
   "metadata": {},
   "outputs": [
    {
     "data": {
      "text/plain": [
       "[1, 2, 3, [1, 2, 3, 10]]"
      ]
     },
     "execution_count": 13,
     "metadata": {},
     "output_type": "execute_result"
    }
   ],
   "source": [
    "y2"
   ]
  },
  {
   "cell_type": "code",
   "execution_count": 14,
   "id": "6d22f38d-a830-4fc7-8dde-ea9ab8c6a86f",
   "metadata": {},
   "outputs": [
    {
     "name": "stdout",
     "output_type": "stream",
     "text": [
      "(None,)\n"
     ]
    }
   ],
   "source": [
    "from typing import Any, Optional\n",
    "def append(value: Any, collection: Optional[list] = None) -> list:\n",
    "    if collection is None:\n",
    "        collection = []\n",
    "    collection.append(value)\n",
    "\n",
    "    return collection\n",
    "\n",
    "append(1)\n",
    "x = append(1)\n",
    "x\n",
    "\n",
    "print(append.__defaults__)\n",
    "assert append(19) == [19]\n",
    "assert append(19) == [19]\n",
    "assert append(10, [1, 2, 3]) == [1, 2, 3, 10]"
   ]
  },
  {
   "cell_type": "markdown",
   "id": "f7d5b668-2b6d-40a1-9812-529ec1f90b69",
   "metadata": {},
   "source": [
    "### cwiczenie\n",
    "\n",
    "mamy jakas liste\n",
    "\n",
    "lista = [1,2 ,3, 4, 5, 6, 7]\n",
    "\n",
    "napisz funkcje, ktora usunie parzyste wartosci z tej listy\n",
    "\n",
    "```\n",
    "lista = [1, 2 ,3, 4, 5, 6, 7]\n",
    "assert usun_parzyste(lista) is None\n",
    "assert lista == [1, 3, 5, 7]\n",
    "```\n"
   ]
  },
  {
   "cell_type": "code",
   "execution_count": 15,
   "id": "5217fbfd-fb1e-48c7-9a46-1eb963c25f30",
   "metadata": {},
   "outputs": [
    {
     "name": "stdout",
     "output_type": "stream",
     "text": [
      "[1, 2, 3, 4, 5, 6, 7, 8] 1\n",
      "[1, 3, 4, 5, 6, 7, 8] 2\n",
      "[1, 3, 5, 6, 7, 8] 3\n",
      "[1, 3, 5, 7, 8] 4\n"
     ]
    },
    {
     "data": {
      "text/plain": [
       "[1, 3, 5, 7]"
      ]
     },
     "execution_count": 15,
     "metadata": {},
     "output_type": "execute_result"
    }
   ],
   "source": [
    "lista = [1, 2, 3, 4, 5, 6, 7, 8]\n",
    "\n",
    "for i, el in enumerate(lista):\n",
    "    if el % 2 == 0:\n",
    "        print(lista, i)\n",
    "        del lista[i]\n",
    "        \n",
    "lista"
   ]
  },
  {
   "cell_type": "markdown",
   "id": "f4aa621f-2a76-47cb-8ac1-f5f3a4a17a62",
   "metadata": {},
   "source": [
    "### Operacje na listach\n",
    "\n",
    "Listy w Pythonie obsługują różne operatory. Oto przegląd najczęściej używanych operatorów wraz z przykładami ich użycia:\n",
    "\n",
    "1. **Konkatenacja (`+`)**: Łączy dwie listy w jedną.\n",
    "    ```python\n",
    "    list1 = [1, 2, 3]\n",
    "    list2 = [4, 5, 6]\n",
    "    combined = list1 + list2\n",
    "    print(combined)  # [1, 2, 3, 4, 5, 6]\n",
    "    ```\n",
    "\n",
    "2. **Powtórzenie (`*`)**: Powtarza listę określoną liczbę razy.\n",
    "    ```python\n",
    "    list1 = [1, 2, 3]\n",
    "    repeated = list1 * 3\n",
    "    print(repeated)  # [1, 2, 3, 1, 2, 3, 1, 2, 3]\n",
    "    ```\n",
    "\n",
    "3. **Członkostwo (`in`)**: Sprawdza, czy dany element występuje w liście.\n",
    "    ```python\n",
    "    list1 = [1, 2, 3, 4, 5]\n",
    "    print(3 in list1)  # True\n",
    "    print(6 in list1)  # False\n",
    "    ```\n",
    "\n",
    "4. **Długość (`len`)**: Zwraca liczbę elementów w liście.\n",
    "    ```python\n",
    "    list1 = [1, 2, 3, 4, 5]\n",
    "    print(len(list1))  # 5\n",
    "    ```\n",
    "\n",
    "5. **Indeksowanie**: Pobiera element z listy na określonej pozycji.\n",
    "    ```python\n",
    "    list1 = [1, 2, 3, 4, 5]\n",
    "    print(list1[0])  # 1\n",
    "    print(list1[-1]) # 5\n",
    "    ```\n",
    "\n",
    "6. **Wycinanie**: Pobiera podlistę od określonej pozycji do innej pozycji.\n",
    "    ```python\n",
    "    list1 = [1, 2, 3, 4, 5]\n",
    "    print(list1[1:4])  # [2, 3, 4]\n",
    "    ```\n",
    "\n",
    "7. **Modyfikacja przez indeks**: Przypisuje wartość do określonego indeksu.\n",
    "    ```python\n",
    "    list1 = [1, 2, 3, 4, 5]\n",
    "    list1[2] = 99\n",
    "    print(list1)  # [1, 2, 99, 4, 5]\n",
    "    ```\n",
    "\n",
    "8. **Modyfikacja przez wycinanie**: Przypisuje wartości do wycinka listy.\n",
    "    ```python\n",
    "    list1 = [1, 2, 3, 4, 5]\n",
    "    list1[1:3] = [77, 88]\n",
    "    print(list1)  # [1, 77, 88, 4, 5]\n",
    "    ```\n",
    "\n",
    "9. **Usuwanie elementu (`del`)**: Usuwa element o określonym indeksie.\n",
    "    ```python\n",
    "    list1 = [1, 2, 3, 4, 5]\n",
    "    del list1[1]\n",
    "    print(list1)  # [1, 3, 4, 5]\n",
    "    ```\n",
    "\n",
    "10. **Równość (`==`)**: Sprawdza, czy dwie listy mają te same elementy w tej samej kolejności.\n",
    "    ```python\n",
    "    list1 = [1, 2, 3]\n",
    "    list2 = [1, 2, 3]\n",
    "    print(list1 == list2)  # True\n",
    "    ```\n",
    "\n",
    "11. **Różność (`!=`)**: Sprawdza, czy dwie listy są różne.\n",
    "    ```python\n",
    "    list1 = [1, 2, 3]\n",
    "    list2 = [4, 5, 6]\n",
    "    print(list1 != list2)  # True\n",
    "    ```\n",
    "\n",
    "Oprócz powyższych operatorów, listy posiadają również szereg wbudowanych metod, takich jak `append()`, `extend()`, `remove()`, `sort()` i wiele innych, które umożliwiają manipulowanie nimi."
   ]
  },
  {
   "cell_type": "markdown",
   "id": "245c3f72-f2f2-4e08-8bc6-4fe8bb8cf61d",
   "metadata": {},
   "source": [
    "### Metody list\n",
    "\n",
    "Oczywiście, oto przykłady działania kilku najczęściej używanych metod listy (metoda index i count działają tak samo jak tupli):\n",
    "\n",
    "1. **`append()`**: Dodaje element na końcu listy.\n",
    "    ```python\n",
    "    list1 = [1, 2, 3]\n",
    "    list1.append(4)\n",
    "    print(list1)  # [1, 2, 3, 4]\n",
    "    ```\n",
    "\n",
    "2. **`extend()`**: Dodaje elementy z innej listy (lub innego obiektu iterowalnego) do istniejącej listy.\n",
    "    ```python\n",
    "    list1 = [1, 2, 3]\n",
    "    list2 = [4, 5, 6]\n",
    "    list1.extend(list2)\n",
    "    print(list1)  # [1, 2, 3, 4, 5, 6]\n",
    "    ```\n",
    "\n",
    "3. **`insert()`**: Dodaje element na określonej pozycji.\n",
    "    ```python\n",
    "    list1 = [1, 3, 4]\n",
    "    list1.insert(1, 2)  # wstaw 2 na pozycję 1\n",
    "    print(list1)  # [1, 2, 3, 4]\n",
    "    ```\n",
    "\n",
    "4. **`remove()`**: Usuwa pierwszy napotkany element o określonej wartości.\n",
    "    ```python\n",
    "    list1 = [1, 2, 3, 2, 4]\n",
    "    list1.remove(2)\n",
    "    print(list1)  # [1, 3, 2, 4]\n",
    "    ```\n",
    "\n",
    "5. **`pop()`**: Usuwa element o określonym indeksie i zwraca go. Jeśli nie podano indeksu, usuwa i zwraca ostatni element.\n",
    "    ```python\n",
    "    list1 = [1, 2, 3, 4, 5]\n",
    "    removed = list1.pop(2)\n",
    "    print(removed)  # 3\n",
    "    print(list1)    # [1, 2, 4, 5]\n",
    "    ```\n",
    "\n",
    "6. **`sort()`**: Sortuje listę w miejscu.\n",
    "    ```python\n",
    "    list1 = [3, 1, 4, 2]\n",
    "    list1.sort()\n",
    "    print(list1)  # [1, 2, 3, 4]\n",
    "    ```\n",
    "\n",
    "7. **`reverse()`**: Odwraca kolejność elementów na liście w miejscu.\n",
    "    ```python\n",
    "    list1 = [1, 2, 3, 4]\n",
    "    list1.reverse()\n",
    "    print(list1)  # [4, 3, 2, 1]\n",
    "    ```\n",
    "\n",
    "\n",
    "8. **`clear()`**: Usuwa wszystkie elementy z listy.\n",
    "    ```python\n",
    "    list1 = [1, 2, 3, 4, 5]\n",
    "    list1.clear()\n",
    "    print(list1)  # []\n",
    "    ```\n",
    "\n",
    "Te metody są przydatne do codziennego manipulowania listami w Pythonie i stanowią podstawę operacji na listach.\n",
    "\n",
    "### Podsumowanie\n",
    "\n",
    "Listy to podstawowe, modyfikowalne kolekcje w Pythonie, które służą do przechowywania uporządkowanych sekwencji elementów. Różnią się od tupli tym, że są modyfikowalne. Ważne jest również zrozumienie różnicy między płytkimi a głębokimi kopiemi, aby uniknąć nieoczekiwanych zachowań podczas kopiowania złożonych struktur danych."
   ]
  },
  {
   "cell_type": "code",
   "execution_count": 16,
   "id": "68758eaf-716d-41cd-9770-33172153adf2",
   "metadata": {},
   "outputs": [
    {
     "name": "stdout",
     "output_type": "stream",
     "text": [
      "None\n"
     ]
    }
   ],
   "source": [
    "lista = [10, 7, 54]\n",
    "lista = sorted(lista)\n",
    "print(lista.sort())"
   ]
  },
  {
   "cell_type": "code",
   "execution_count": 17,
   "id": "b3bd6023-ab44-4ef4-a295-a0af7d0f1e2d",
   "metadata": {},
   "outputs": [
    {
     "data": {
      "text/plain": [
       "[7, 10, 54]"
      ]
     },
     "execution_count": 17,
     "metadata": {},
     "output_type": "execute_result"
    }
   ],
   "source": [
    "lista"
   ]
  },
  {
   "cell_type": "markdown",
   "id": "11c315b0-5542-44c5-8ab8-2f245281b45d",
   "metadata": {},
   "source": [
    "## Typ `dict` w Pythonie\n",
    "\n",
    "W języku Python, `dict` to typ danych służący do przechowywania kolekcji elementów w formie pary klucz-wartość. Dicts są nieuporządkowane (co oznacza, że nie mają określonego porządku) i elementy są przechowywane na podstawie unikalnego klucza."
   ]
  },
  {
   "cell_type": "markdown",
   "id": "0ad52d17-237f-4a2f-862e-36a4af2152f4",
   "metadata": {},
   "source": [
    "### Tworzenie słowników\n",
    "\n",
    "Możesz tworzyć słowniki używając nawiasów klamrowych `{}` oraz par klucz-wartość:\n",
    "\n",
    "```python\n",
    "osoba = {\n",
    "    \"imie\": \"Jan\",\n",
    "    \"nazwisko\": \"Kowalski\",\n",
    "    \"wiek\": 30\n",
    "}\n",
    "```"
   ]
  },
  {
   "cell_type": "code",
   "execution_count": 18,
   "id": "a8a3abf2-fab9-406e-80a7-e58cf24c9417",
   "metadata": {},
   "outputs": [
    {
     "ename": "TypeError",
     "evalue": "unhashable type: 'list'",
     "output_type": "error",
     "traceback": [
      "\u001b[0;31m---------------------------------------------------------------------------\u001b[0m",
      "\u001b[0;31mTypeError\u001b[0m                                 Traceback (most recent call last)",
      "Cell \u001b[0;32mIn[18], line 1\u001b[0m\n\u001b[0;32m----> 1\u001b[0m {[\u001b[38;5;241m1\u001b[39m, \u001b[38;5;241m2\u001b[39m]: \u001b[38;5;124m\"\u001b[39m\u001b[38;5;124ma\u001b[39m\u001b[38;5;124m\"\u001b[39m}\n",
      "\u001b[0;31mTypeError\u001b[0m: unhashable type: 'list'"
     ]
    }
   ],
   "source": [
    "{[1, 2]: \"a\"}"
   ]
  },
  {
   "cell_type": "code",
   "execution_count": null,
   "id": "13cb37fd-99b0-40db-8f39-90fde9e63557",
   "metadata": {},
   "outputs": [],
   "source": [
    "x = (1, 2, 3)\n",
    "y = (1, 2, 3)\n",
    "\n",
    "x is y"
   ]
  },
  {
   "cell_type": "code",
   "execution_count": null,
   "id": "2865dbe1-c36e-45bb-81c9-bbfe0bd7100e",
   "metadata": {},
   "outputs": [],
   "source": [
    "id(x), id(y)"
   ]
  },
  {
   "cell_type": "code",
   "execution_count": null,
   "id": "95574e8e-f460-4187-8bde-26edabe86657",
   "metadata": {},
   "outputs": [],
   "source": [
    "hash(x), hash(y)"
   ]
  },
  {
   "cell_type": "code",
   "execution_count": null,
   "id": "c90747f5-43f8-43ca-afe0-1ddfe04694d5",
   "metadata": {},
   "outputs": [],
   "source": [
    "x = (1, 2, 3, [4, 5])\n",
    "y = (1, 2, 3, [4, 5])\n",
    "hash(x)"
   ]
  },
  {
   "cell_type": "code",
   "execution_count": null,
   "id": "3f06cb98-5553-49a2-915b-44cba21ad576",
   "metadata": {},
   "outputs": [],
   "source": [
    "{x}"
   ]
  },
  {
   "cell_type": "code",
   "execution_count": null,
   "id": "c461c8fa-a26b-42f5-a51b-028492df3d67",
   "metadata": {},
   "outputs": [],
   "source": [
    "hash(\"aaa\")"
   ]
  },
  {
   "cell_type": "code",
   "execution_count": null,
   "id": "8d4c1358-db4a-41c9-a902-5800c9eb074a",
   "metadata": {},
   "outputs": [],
   "source": [
    "hash(2.5)"
   ]
  },
  {
   "cell_type": "code",
   "execution_count": null,
   "id": "09c5f568-8af8-4ad6-877e-c4a98d902f43",
   "metadata": {},
   "outputs": [],
   "source": [
    "for i in 100:\n",
    "    print(i)"
   ]
  },
  {
   "cell_type": "code",
   "execution_count": null,
   "id": "44530f7b-2ac1-4b3a-a728-136071134cf8",
   "metadata": {},
   "outputs": [],
   "source": [
    "{x: 1}"
   ]
  },
  {
   "cell_type": "markdown",
   "id": "1c428884-077b-49d5-87e7-a8ee6e50ac37",
   "metadata": {},
   "source": [
    "### Inne metody tworzenia słowników\n",
    "\n",
    "\n",
    "1. Używając metody `dict()`\n",
    "\n",
    "Możesz tworzyć słowniki za pomocą wbudowanej funkcji `dict()`, przekazując parę klucz-wartość jako argumenty:\n",
    "\n",
    "```python\n",
    "osoba = dict(imie=\"Jan\", nazwisko=\"Kowalski\")\n",
    "print(osoba)  # {'imie': 'Jan', 'nazwisko': 'Kowalski'}\n",
    "```\n",
    "\n",
    "2. Słowniki z list\n",
    "\n",
    "```python\n",
    "klucze = [\"jeden\", \"dwa\", \"trzy\"]\n",
    "wartosci = [1, 2, 3]\n",
    "\n",
    "slownik = {klucze[i]: wartosci[i] for i in range(len(klucze))}\n",
    "print(slownik)  # {'jeden': 1, 'dwa': 2, 'trzy': 3}\n",
    "```\n",
    "\n",
    "3. Słowniki z par klucz-wartość\n",
    "\n",
    "Można również tworzyć słowniki z listy krotek:\n",
    "\n",
    "```python\n",
    "para = [(\"imie\", \"Jan\"), (\"nazwisko\", \"Kowalski\")]\n",
    "osoba = dict(para)\n",
    "print(osoba)  # {'imie': 'Jan', 'nazwisko': 'Kowalski'}\n",
    "```\n",
    "\n",
    "4. Używając metody `setdefault`\n",
    "\n",
    "Metoda `setdefault` pozwala na dodawanie kluczy do słownika z domyślną wartością, jeśli klucz nie istnieje:\n",
    "\n",
    "```python\n",
    "slownik = {}\n",
    "slownik.setdefault(\"klucz\", \"domyślna wartość\")\n",
    "print(slownik)  # {'klucz': 'domyślna wartość'}\n",
    "```\n",
    "\n",
    "5. Używając metody `fromkeys`\n",
    "\n",
    "Metoda `fromkeys` tworzy nowy słownik z podanych kluczy z domyślną wartością:\n",
    "\n",
    "```python\n",
    "klucze = [\"jeden\", \"dwa\", \"trzy\"]\n",
    "slownik = dict.fromkeys(klucze, 0)\n",
    "print(slownik)  # {'jeden': 0, 'dwa': 0, 'trzy': 0}\n",
    "```\n",
    "---\n",
    "\n",
    "Python oferuje wiele elastycznych metod tworzenia i manipulacji słownikami, dzięki czemu możesz wybrać tę, która najlepiej pasuje do Twojego konkretnego przypadku użycia."
   ]
  },
  {
   "cell_type": "markdown",
   "id": "567aecf0-9902-401a-a937-193faa7e5784",
   "metadata": {},
   "source": [
    "### Dostęp do wartości w słowniku\n",
    "\n",
    "Aby uzyskać dostęp do wartości w słowniku, użyj klucza w nawiasach kwadratowych:\n",
    "\n",
    "```python\n",
    "print(osoba[\"imie\"])  # Wyświetli: Jan\n",
    "```\n",
    "\n",
    "### Modyfikacja słowników\n",
    "\n",
    "Możesz modyfikować wartości w słowniku poprzez przypisanie nowej wartości do istniejącego klucza:\n",
    "\n",
    "```python\n",
    "osoba[\"wiek\"] = 31\n",
    "```\n",
    "\n",
    "### Dodawanie nowych par klucz-wartość\n",
    "\n",
    "Aby dodać nową parę klucz-wartość, po prostu przypisz wartość do nowego klucza:\n",
    "\n",
    "```python\n",
    "osoba[\"zawod\"] = \"programista\"\n",
    "```\n",
    "\n",
    "### Różnice między `dict` a `list`:\n",
    "\n",
    "- `dict` przechowuje dane w parach klucz-wartość, podczas gdy `list` przechowuje elementy w porządku sekwencyjnym.\n",
    "- W `dict` klucze muszą być unikalne, w przeciwieństwie do list, które może zawierać duplikaty.\n",
    "\n",
    "### Płytkie i głębokie kopie\n",
    "\n",
    "Podobnie jak w przypadku list, kopie słowników mogą być płytkie lub głębokie. Płytkie kopie (stworzone np. za pomocą metody `copy()` słownika) tworzą nowy słownik, ale odnoszą się do tych samych obiektów co oryginał. Głębokie kopie (stworzone za pomocą modułu `copy`) tworzą nowy słownik wraz z nowymi obiektami.\n",
    "\n",
    "### Metody słownika\n",
    "\n",
    "## Metody słownika w Pythonie\n",
    "\n",
    "Słowniki w Pythonie są jednym z najbardziej elastycznych typów danych. Mają wiele wbudowanych metod, które pozwalają na łatwe manipulowanie danymi. Poniżej przedstawiam najczęściej używane metody słowników wraz z ich opisami i przykładami.\n",
    "\n",
    "1. `clear()`\n",
    "Usuwa wszystkie elementy ze słownika.\n",
    "```python\n",
    "d = {'a': 1, 'b': 2}\n",
    "d.clear()\n",
    "print(d)  # {}\n",
    "```\n",
    "\n",
    "2. `copy()`\n",
    "Zwraca kopię słownika.\n",
    "```python\n",
    "d = {'a': 1, 'b': 2}\n",
    "c = d.copy()\n",
    "print(c)  # {'a': 1, 'b': 2}\n",
    "```\n",
    "\n",
    "3. `fromkeys(seq[, value])`\n",
    "Zwraca nowy słownik z kluczami z `seq` i wartością równą `value`.\n",
    "```python\n",
    "keys = ['a', 'b', 'c']\n",
    "d = dict.fromkeys(keys, 0)\n",
    "print(d)  # {'a': 0, 'b': 0, 'c': 0}\n",
    "```\n",
    "\n",
    "4. `get(key[, default])`\n",
    "Zwraca wartość dla klucza, jeśli klucz jest w słowniku, w przeciwnym razie zwraca wartość domyślną.\n",
    "```python\n",
    "d = {'a': 1, 'b': 2}\n",
    "print(d.get('a', 0))  # 1\n",
    "print(d.get('c', 0))  # 0\n",
    "```"
   ]
  },
  {
   "cell_type": "code",
   "execution_count": null,
   "id": "df2e13c6-496a-446a-af8a-277594a8b389",
   "metadata": {},
   "outputs": [],
   "source": [
    "slownik = {2: \"A\", 3: \"B\"}"
   ]
  },
  {
   "cell_type": "code",
   "execution_count": null,
   "id": "a8355fa1-0c53-462e-8aef-d702be40809d",
   "metadata": {},
   "outputs": [],
   "source": [
    "if 1 in slownik: \n",
    "    print(slownik[1])"
   ]
  },
  {
   "cell_type": "code",
   "execution_count": null,
   "id": "00f1f477-fc61-48f7-bcd9-a2016f3fad44",
   "metadata": {},
   "outputs": [],
   "source": [
    "print(slownik.get(1, \"sss\"))"
   ]
  },
  {
   "cell_type": "code",
   "execution_count": null,
   "id": "f2d7528c-10f8-48c1-b4c7-8beab61c589a",
   "metadata": {},
   "outputs": [],
   "source": [
    "for klucz in slownik: print(klucz)"
   ]
  },
  {
   "cell_type": "code",
   "execution_count": null,
   "id": "9b0ebc1a-997c-476f-bcd6-100f0f5643df",
   "metadata": {},
   "outputs": [],
   "source": [
    "for klucz in slownik.keys(): print(klucz)"
   ]
  },
  {
   "cell_type": "code",
   "execution_count": null,
   "id": "d4c43a34-db3f-4ce6-b234-5c5e628d6234",
   "metadata": {},
   "outputs": [],
   "source": [
    "for klucz in slownik.values(): print(klucz)"
   ]
  },
  {
   "cell_type": "code",
   "execution_count": null,
   "id": "8069fa16-7ef3-406d-b240-df043142d210",
   "metadata": {},
   "outputs": [],
   "source": [
    "slownik.values()"
   ]
  },
  {
   "cell_type": "code",
   "execution_count": null,
   "id": "33641ad1-a6de-4cf5-9851-c05b02746f97",
   "metadata": {},
   "outputs": [],
   "source": [
    "slownik.items()"
   ]
  },
  {
   "cell_type": "code",
   "execution_count": null,
   "id": "f54b1d98-6aa1-4ddb-950c-48c91ebb8c87",
   "metadata": {},
   "outputs": [],
   "source": [
    "for k, v in slownik.items():\n",
    "    print(k, v)"
   ]
  },
  {
   "cell_type": "code",
   "execution_count": null,
   "id": "bd0adab1-63cd-41d9-bb9d-bfb9bea880b4",
   "metadata": {},
   "outputs": [],
   "source": [
    "slownik.pop(2)"
   ]
  },
  {
   "cell_type": "code",
   "execution_count": null,
   "id": "5a7b2797-e6ac-47ee-84f2-c3d7ea0f5124",
   "metadata": {},
   "outputs": [],
   "source": [
    "slownik.popitem()"
   ]
  },
  {
   "cell_type": "code",
   "execution_count": null,
   "id": "8a54daf3-4862-4498-9903-1fc3e729973b",
   "metadata": {},
   "outputs": [],
   "source": [
    "slownik"
   ]
  },
  {
   "cell_type": "markdown",
   "id": "0eacdcc6-7273-4bb0-b90a-5a3b3a51cdf3",
   "metadata": {},
   "source": [
    "5. `items()`\n",
    "Zwraca parę klucz-wartość dla słownika, jako krotki w liście.\n",
    "```python\n",
    "d = {'a': 1, 'b': 2}\n",
    "print(list(d.items()))  # [('a', 1), ('b', 2)]\n",
    "```\n",
    "\n",
    "6. `keys()`\n",
    "Zwraca klucze ze słownika jako listę.\n",
    "```python\n",
    "d = {'a': 1, 'b': 2}\n",
    "print(list(d.keys()))  # ['a', 'b']\n",
    "```\n",
    "\n",
    "7. `pop(key[, default])`\n",
    "Usuwa i zwraca element ze słownika o podanym kluczu. Jeśli klucz nie istnieje i nie jest podana wartość domyślna, podnosi wyjątek.\n",
    "```python\n",
    "d = {'a': 1, 'b': 2}\n",
    "print(d.pop('a'))  # 1\n",
    "print(d)  # {'b': 2}\n",
    "```\n",
    "\n",
    "8. `popitem()`\n",
    "Usuwa i zwraca parę klucz-wartość jako krotkę.\n",
    "```python\n",
    "d = {'a': 1, 'b': 2}\n",
    "print(d.popitem())  # ('b', 2)\n",
    "print(d)  # {'a': 1}\n",
    "```\n",
    "\n",
    "9. `setdefault(key[, default])`\n",
    "Zwraca wartość dla klucza, jeśli istnieje. W przeciwnym razie ustawia klucz z domyślną wartością i zwraca tę wartość.\n",
    "```python\n",
    "d = {'a': 1, 'b': 2}\n",
    "print(d.setdefault('a', 0))  # 1\n",
    "print(d.setdefault('c', 3))  # 3\n",
    "print(d)  # {'a': 1, 'b': 2, 'c': 3}\n",
    "```"
   ]
  },
  {
   "cell_type": "code",
   "execution_count": null,
   "id": "167ce4b9-6797-4785-9570-f3211a186fe6",
   "metadata": {},
   "outputs": [],
   "source": [
    "counter = dict()\n",
    "counter.setdefault(1, 1)"
   ]
  },
  {
   "cell_type": "code",
   "execution_count": null,
   "id": "d3ee79d6-9a39-46f6-9299-16c0aca94bad",
   "metadata": {},
   "outputs": [],
   "source": [
    "counter.setdefault(1, 2)"
   ]
  },
  {
   "cell_type": "code",
   "execution_count": null,
   "id": "d647d7e1-74ac-45e8-aa3d-8643ada92a94",
   "metadata": {},
   "outputs": [],
   "source": [
    "counter"
   ]
  },
  {
   "cell_type": "code",
   "execution_count": null,
   "id": "d713f1f6-e7b2-40ce-a618-3c606a049e11",
   "metadata": {},
   "outputs": [],
   "source": [
    "counter[\"a\"] += 1"
   ]
  },
  {
   "cell_type": "code",
   "execution_count": null,
   "id": "d64c8000-217f-4b86-a975-f9a79b5e6237",
   "metadata": {},
   "outputs": [],
   "source": [
    "from collections import defaultdict, OrderedDict\n",
    "\n",
    "counter = defaultdict(int)\n",
    "\n",
    "counter"
   ]
  },
  {
   "cell_type": "code",
   "execution_count": null,
   "id": "596348c3-6947-4b5b-9306-1fd6e2e6b632",
   "metadata": {},
   "outputs": [],
   "source": [
    "counter[\"a\"]"
   ]
  },
  {
   "cell_type": "code",
   "execution_count": null,
   "id": "ba7b6926-f41f-4b4b-8db3-6793212910f2",
   "metadata": {},
   "outputs": [],
   "source": [
    "d = {'a': 1, 'b': 2}\n",
    "d.update({'b': 3, 'c': 4})\n",
    "d"
   ]
  },
  {
   "cell_type": "code",
   "execution_count": null,
   "id": "f61c07ed-742c-4d84-bf13-5e4472bddc86",
   "metadata": {},
   "outputs": [],
   "source": [
    "d1 = {}\n",
    "d2 = OrderedDict()"
   ]
  },
  {
   "cell_type": "code",
   "execution_count": null,
   "id": "d81b0949-652d-4e8e-bdcf-970da0f88fea",
   "metadata": {},
   "outputs": [],
   "source": [
    "[x for x in dir(d1) if not x.startswith(\"__\")]"
   ]
  },
  {
   "cell_type": "code",
   "execution_count": null,
   "id": "913b3fcf-2b0c-4acb-bd42-68179ad9921b",
   "metadata": {},
   "outputs": [],
   "source": [
    "[x for x in dir(d2) if not x.startswith(\"__\")]"
   ]
  },
  {
   "cell_type": "markdown",
   "id": "5457cb88-42c2-4845-bec5-f4edc242c1dc",
   "metadata": {},
   "source": [
    "10. `update([other])`\n",
    "Aktualizuje słownik za pomocą słownika `other`, pary klucz-wartość lub iterowalnego obiektu.\n",
    "```python\n",
    "d = {'a': 1, 'b': 2}\n",
    "d.update({'b': 3, 'c': 4})\n",
    "print(d)  # {'a': 1, 'b': 3, 'c': 4}\n",
    "```\n",
    "\n",
    "11. `values()`\n",
    "Zwraca wartości ze słownika jako listę.\n",
    "```python\n",
    "d = {'a': 1, 'b': 2}\n",
    "print(list(d.values()))  # [1, 2]\n",
    "```"
   ]
  },
  {
   "cell_type": "markdown",
   "id": "935236d0-d5f5-4a26-b778-7adc99a1fc7e",
   "metadata": {},
   "source": [
    "### Podsumowanie\n",
    "\n",
    "Typ `dict` w Pythonie jest niezwykle elastyczny i potężny, pozwalając na przechowywanie złożonych struktur danych w wygodnej i czytelnej formie. Dzięki temu jest jednym z najczęściej używanych typów danych w Pythonie, szczególnie w przypadku operacji związanych z przechowywaniem i manipulacją danymi."
   ]
  },
  {
   "cell_type": "markdown",
   "id": "60197292",
   "metadata": {},
   "source": [
    "## Zbiory w Pythonie\n",
    "\n",
    "Zbiór, znany w Pythonie jako `set`, to nieuporządkowana kolekcja unikalnych elementów. Zbiory są bardzo przydatne do usuwania zduplikowanych wartości lub sprawdzania członkostwa. Ze względu na ich unikalność i sposoby działania, zbiory oferują specyficzne cechy i operacje, które różnią je od innych kolekcji w Pythonie, takich jak listy czy słowniki.\n",
    "\n",
    "### Podstawy\n",
    "\n",
    "Zbiory można tworzyć na dwa sposoby:\n",
    "\n",
    "1. Używając nawiasów klamrowych:m\n",
    "```python\n",
    "my_set = {1, 2, 3, 4}\n",
    "```\n",
    "\n",
    "2. Używając funkcji wbudowanej `set()`:\n",
    "```python\n",
    "another_set = set([1, 2, 3, 4])\n",
    "```\n",
    "\n",
    "### Hashowalność obiektów\n",
    "\n",
    "Kluczową cechą zbiorów jest to, że przechowują tylko elementy, które są \"hashowalne\". Oznacza to, że obiekt musi mieć stałą wartość hasha przez cały czas jego istnienia. W praktyce oznacza to, że nie możemy przechowywać w zbiorach obiektów zmiennych, takich jak listy czy słowniki. Możemy natomiast przechowywać krotki, liczby, napisy i inne hashowalne typy.\n",
    "\n",
    "Dlaczego ta właściwość jest ważna? Gwarantuje to, że każdy element w zbiorze jest unikalny. Jeśli dwa obiekty mają ten sam hash, to są traktowane jako identyczne.\n",
    "\n",
    "### Operacje na zbiorach\n",
    "\n",
    "Zbiory w Pythonie oferują szereg przydatnych operacji:\n",
    "\n",
    "1. **Unia** - zwraca zbiór zawierający wszystkie elementy z obu zbiorów.\n",
    "```python\n",
    "a = {1, 2, 3}\n",
    "b = {3, 4, 5}\n",
    "print(a | b)  # {1, 2, 3, 4, 5}\n",
    "```\n",
    "\n",
    "2. **Przecięcie** - zwraca zbiór zawierający wspólne elementy obu zbiorów.\n",
    "```python\n",
    "print(a & b)  # {3}\n",
    "```\n",
    "\n",
    "3. **Różnica** - zwraca zbiór zawierający elementy tylko z pierwszego zbioru, ale nie z drugiego.\n",
    "```python\n",
    "print(a - b)  # {1, 2}\n",
    "```\n",
    "\n",
    "4. **Różnica symetryczna** - zwraca zbiór zawierający elementy, które są w jednym zbiorze, ale nie w obu.\n",
    "```python\n",
    "print(a ^ b)  # {1, 2, 4, 5}\n",
    "```\n",
    "\n",
    "### Metody `set`\n",
    "\n",
    "Zbiory (`set`) w Pythonie nie tylko oferują operacje typowe dla teorii mnogości (takie jak unie, przecięcia itp.), ale także posiadają zestaw wbudowanych metod, które pozwalają na bardziej zaawansowaną manipulację i dostęp do danych.\n",
    "\n",
    "1. `add(element)`\n",
    "\n",
    "Dodaje element do zbioru. Jeśli element już istnieje, nie zostanie dodana żadna kopia.\n",
    "```python\n",
    "s = {1, 2, 3}\n",
    "s.add(4)\n",
    "print(s)  # {1, 2, 3, 4}\n",
    "```\n",
    "\n",
    "2. `remove(element)`\n",
    "\n",
    "Usuwa element ze zbioru. Jeśli element nie istnieje, podnosi `KeyError`.\n",
    "```python\n",
    "s = {1, 2, 3}\n",
    "s.remove(3)\n",
    "print(s)  # {1, 2}\n",
    "```\n",
    "\n",
    "3. `discard(element)`\n",
    "\n",
    "Usuwa element ze zbioru, jeśli istnieje. Jeśli nie, nie robi nic (nie podnosi błędu).\n",
    "```python\n",
    "s = {1, 2, 3}\n",
    "s.discard(4)\n",
    "print(s)  # {1, 2, 3}\n",
    "```\n",
    "\n",
    "4. `pop()`\n",
    "\n",
    "Usuwa i zwraca arbitralny (losowy) element ze zbioru. Jeśli zbiór jest pusty, podnosi `KeyError`.\n",
    "```python\n",
    "s = {1, 2, 3}\n",
    "print(s.pop())  # Może wyświetlić 1, 2 lub 3\n",
    "```\n",
    "\n",
    "5. `clear()`\n",
    "\n",
    "Usuwa wszystkie elementy ze zbioru.\n",
    "```python\n",
    "s = {1, 2, 3}\n",
    "s.clear()\n",
    "print(s)  # set()\n",
    "```\n",
    "\n",
    "6. `union(*others)`\n",
    "\n",
    "Zwraca nowy zbiór z elementami ze zbioru i wszystkich innych zbiorów.\n",
    "```python\n",
    "a = {1, 2}\n",
    "b = {2, 3}\n",
    "print(a.union(b))  # {1, 2, 3}\n",
    "```\n",
    "\n",
    "7. `intersection(*others)`\n",
    "\n",
    "Zwraca nowy zbiór z elementami wspólnymi dla zbioru i wszystkich innych zbiorów.\n",
    "```python\n",
    "a = {1, 2, 3}\n",
    "b = {2, 3, 4}\n",
    "print(a.intersection(b))  # {2, 3}\n",
    "```\n",
    "\n",
    "8. `difference(*others)`\n",
    "\n",
    "Zwraca nowy zbiór z elementami ze zbioru, które nie występują w innych zbiorach.\n",
    "```python\n",
    "a = {1, 2, 3}\n",
    "b = {3, 4, 5}\n",
    "print(a.difference(b))  # {1, 2}\n",
    "```\n",
    "\n",
    "9. `symmetric_difference(other)`\n",
    "\n",
    "Zwraca nowy zbiór z elementami, które występują tylko w jednym z dwóch zbiorów (ale nie w obu).\n",
    "```python\n",
    "a = {1, 2, 3}\n",
    "b = {2, 3, 4}\n",
    "print(a.symmetric_difference(b))  # {1, 4}\n",
    "```\n",
    "\n",
    "10. `update(*others)`\n",
    "\n",
    "Aktualizuje zbiór, dodając elementy z innych zbiorów.\n",
    "```python\n",
    "a = {1, 2}\n",
    "b = {2, 3}\n",
    "a.update(b)\n",
    "print(a)  # {1, 2, 3}\n",
    "```\n",
    "\n",
    "11. `intersection_update(*others)`\n",
    "\n",
    "Aktualizuje zbiór, pozostawiając tylko elementy wspólne dla zbioru i wszystkich innych zbiorów.\n",
    "```python\n",
    "a = {1, 2, 3}\n",
    "b = {2, 3, 4}\n",
    "a.intersection_update(b)\n",
    "print(a)  # {2, 3}\n",
    "```\n",
    "\n",
    "12. `difference_update(*others)`\n",
    "\n",
    "Aktualizuje zbiór, usuwając wszystkie elementy występujące w innych zbiorach.\n",
    "```python\n",
    "a = {1, 2, 3}\n",
    "b = {3, 4, 5}\n",
    "a.difference_update(b)\n",
    "print(a)  # {1, 2}\n",
    "```\n",
    "\n",
    "13. `symmetric_difference_update(other)`\n",
    "\n",
    "Aktualizuje zbiór, zastępując jego elementy różnicą symetryczną z innym zbiorem.\n",
    "```python\n",
    "a = {1, 2, 3}\n",
    "b = {2, 3, 4}\n",
    "a.symmetric_difference_update(b)\n",
    "print(a)  # {1, 4}\n",
    "```\n",
    "\n",
    "14. `issubset(other)`\n",
    "\n",
    "Sprawdza, czy inny zbiór zawiera ten zbiór.\n",
    "\n",
    "```python\n",
    "\n",
    "a = {1, 2}\n",
    "b = {1, 2, 3}\n",
    "print(a.issubset(b))  # True\n",
    "```\n",
    "\n",
    "15. `issuperset(other)`\n",
    "\n",
    "Sprawdza, czy zbiór zawiera inny zbiór.\n",
    "\n",
    "```python\n",
    "\n",
    "a = {1, 2, 3}\n",
    "b = {1, 2}\n",
    "print(a.issuperset(b))  # True\n",
    "```\n",
    "\n",
    "16. `isdisjoint(other)`\n",
    "\n",
    "Sprawdza, czy zbiór i inny zbiór mają elementy wspólne.\n",
    "\n",
    "```python\n",
    "\n",
    "a = {1, 2}\n",
    "b = {3, 4}\n",
    "print(a.isdisjoint(b))  # True\n",
    "```\n",
    "\n",
    "### Podsumowanie\n",
    "\n",
    "Zbiory w Pythonie są potężnym narzędziem, które pozwala na wykonywanie unikalnych operacji na danych, zapewniając jednocześnie pewność, że wszystkie elementy są unikalne. Jednak warto pamiętać o ograniczeniu dotyczącym hashowalności obiektów, aby uniknąć potencjalnych problemów podczas korzystania z tej struktury danych.m"
   ]
  },
  {
   "cell_type": "markdown",
   "id": "d063b2c6-fe46-4ce6-bc3c-92a338c7b75c",
   "metadata": {},
   "source": [
    "## Frozenset w Pythonie\n",
    "\n",
    "`frozenset` to wbudowany typ w Pythonie reprezentujący niemodyfikowalny zbiór. Jest to wersja \"zamrożona\" standardowego zbioru (`set`), co oznacza, że po jego utworzeniu nie można już modyfikować jego zawartości (dodawanie, usuwanie elementów itp.). Dzięki tej niemutowalności, `frozenset` może być używany jako klucz w słownikach (`dict`) lub jako element innych zbiorów, podczas gdy zwykłe zbiory nie mogą pełnić tej roli z powodu swojej mutowalności.\n",
    "\n",
    "### Tworzenie frozensetu:\n",
    "\n",
    "```python\n",
    "fs = frozenset([1, 2, 3, 3, 4])\n",
    "print(fs)  # frozenset({1, 2, 3, 4})\n",
    "```"
   ]
  },
  {
   "cell_type": "code",
   "execution_count": null,
   "id": "9641cfba-c174-4702-bea0-7a0170ce907c",
   "metadata": {},
   "outputs": [],
   "source": [
    "dir(frozenset)"
   ]
  },
  {
   "cell_type": "markdown",
   "id": "a2062b24-e56f-4d36-9ffd-b6ecfb50a7c4",
   "metadata": {},
   "source": [
    "### Dlaczego używać frozensetu?\n",
    "\n",
    "Najczęstszym zastosowaniem `frozenset` jest potrzeba stworzenia zbioru, który ma służyć jako klucz w słowniku lub kiedy chcemy mieć pewność, że zawartość zbioru nie zostanie przypadkowo zmieniona.\n",
    "\n",
    "### Operacje na frozenset:\n",
    "\n",
    "Ponieważ `frozenset` jest niemutowalny, nie obsługuje metod modyfikujących zawartość, takich jak `add` czy `remove`. Jednakże wszystkie operacje, które nie modyfikują zbioru (takie jak unie, przecięcia, różnice) są dostępne:\n",
    "\n",
    "```python\n",
    "fs1 = frozenset([1, 2, 3])\n",
    "fs2 = frozenset([3, 4, 5])\n",
    "\n",
    "print(fs1.union(fs2))          # frozenset({1, 2, 3, 4, 5})\n",
    "print(fs1.intersection(fs2))  # frozenset({3})\n",
    "```\n",
    "\n",
    "### Podsumowanie:\n",
    "\n",
    "`frozenset` to przydatny typ danych w Pythonie, kiedy potrzebujemy niemutowalnego zbioru. Jego główne zastosowanie to sytuacje, gdy chcemy używać zbiorów jako klucze w słownikach lub kiedy chcemy zapewnić niemutowalność zbioru w naszym kodzie."
   ]
  },
  {
   "cell_type": "markdown",
   "id": "c781ba8f",
   "metadata": {},
   "source": [
    "## `bytearray` \n",
    "\n",
    "`bytearray` to wbudowany typ w języku Python służący do reprezentowania tablic bajtów. Jest to sekwencja bajtów, która jest mutowalna, w przeciwieństwie do niemutowalnych ciągów bajtów (`bytes`). Jest szczególnie przydatny w sytuacjach, gdy musimy modyfikować bajty, np. podczas obróbki plików binarnych czy komunikacji przez sieć.\n",
    "\n",
    "### Tworzenie bytearray:\n",
    "\n",
    "1. **Z listy wartości:**\n",
    "```python\n",
    "ba = bytearray([65, 66, 67])\n",
    "print(ba)  # bytearray(b'ABC')\n",
    "```\n",
    "\n",
    "2. **Z ciągu bajtów:**\n",
    "```python\n",
    "ba = bytearray(b\"ABC\")\n",
    "print(ba)  # bytearray(b'ABC')\n",
    "```\n",
    "\n",
    "3. **Używając funkcji `bytearray()` z określoną długością:**\n",
    "```python\n",
    "ba = bytearray(5)\n",
    "print(ba)  # bytearray(b'\\x00\\x00\\x00\\x00\\x00')\n",
    "```\n",
    "\n",
    "### Operacje na bytearray:\n",
    "\n",
    "1. **Modyfikacja wartości:**\n",
    "```python\n",
    "ba = bytearray(b'ABC')\n",
    "ba[1] = 68\n",
    "print(ba)  # bytearray(b'ADC')\n",
    "```\n",
    "\n",
    "2. **Dodawanie i usuwanie elementów:**\n",
    "```python\n",
    "ba = bytearray(b'ABC')\n",
    "ba.append(69)\n",
    "print(ba)  # bytearray(b'ABCE')\n",
    "\n",
    "ba.extend([70, 71])\n",
    "print(ba)  # bytearray(b'ABCEFG')\n",
    "\n",
    "del ba[3]\n",
    "print(ba)  # bytearray(b'ABCFG')\n",
    "```\n",
    "\n",
    "3. **Inne metody jak `find`, `replace`, `count`, etc. działają podobnie jak dla typu `str`.**\n",
    "\n",
    "### Różnica między `bytes` a `bytearray`:\n",
    "\n",
    "Główną różnicą między `bytes` a `bytearray` jest mutowalność. `bytes` to niemutowalny typ, podczas gdy `bytearray` można modyfikować. Oznacza to, że gdy raz utworzymy obiekt typu `bytes`, jego zawartość pozostaje niezmieniona, podczas gdy obiekt `bytearray` można modyfikować tak, jak listę.\n",
    "\n",
    "### Zastosowania:\n",
    "\n",
    "`bytearray` jest często używany w aplikacjach, które wymagają obróbki danych binarnych, takich jak pliki obrazów, audio czy komunikacja sieciowa. Dzięki mutowalności jest bardziej elastyczny w wielu zastosowaniach niż `bytes`.\n",
    "\n",
    "### Podsumowanie:\n",
    "\n",
    "`bytearray` jest potężnym narzędziem w arsenale programisty Pythona, umożliwiającym manipulację danymi binarnymi. Jego mutowalność czyni go idealnym wyborem w sytuacjach, gdy potrzebujemy modyfikować dane bajtowe. Jednak zawsze warto pamiętać o różnicach między `bytes` a `bytearray` i wybierać odpowiedni typ w zależności od potrzeb."
   ]
  },
  {
   "cell_type": "markdown",
   "id": "9a0cb032",
   "metadata": {},
   "source": [
    "%%writefile cwiczenia/cwiczenie_3_7_6.md\n",
    "\n",
    "### 📝 Ćwiczenie: Połączenie list i słowników\n",
    "\n",
    "[Cwiczenie_3_7_6](cwiczenia/cwiczenie_3_7_6.md)\n",
    "\n",
    "\n",
    "\n",
    "Masz daną listę `osoby` składającą się z słowników reprezentujących osoby:\n",
    "\n",
    "```python\n",
    "osoby = [\n",
    "    {'imie': 'Anna', 'wiek': 28, 'zawod': 'inżynier'},\n",
    "    {'imie': 'Tomasz', 'wiek': 35, 'zawod': 'lekarz'},\n",
    "    {'imie': 'Karolina', 'wiek': 40, 'zawod': 'nauczyciel'},\n",
    "    {'imie': 'Piotr', 'wiek': 32, 'zawod': 'programista'}\n",
    "]\n",
    "```\n",
    "\n",
    "Napisz funkcję, która przyjmie listę `osoby` i zwróci słownik, gdzie kluczem będzie zawód, a wartością lista osób o danym zawodzie."
   ]
  },
  {
   "cell_type": "code",
   "execution_count": null,
   "id": "5fc5ddb2-692c-469d-81ae-453bd636e583",
   "metadata": {},
   "outputs": [],
   "source": [
    "text = \"ala ma kota\"\n",
    "from collections import defaultdict, Counter\n",
    "\n",
    "def counter(text: str) -> dict[str, int]:\n",
    "    signs_counter = defaultdict(int)\n",
    "    for s in text:\n",
    "        signs_counter[s] += 1\n",
    "    return signs_counter\n",
    "\n",
    "\n",
    "counter(text)\n",
    "print(Counter(text))\n",
    "\n"
   ]
  },
  {
   "cell_type": "markdown",
   "id": "60c27862",
   "metadata": {},
   "source": [
    "%%writefile cwiczenia/cwiczenie_3_7_7.md\n",
    "\n",
    "### 📝 Ćwiczenie: Analiza listy zakupów\n",
    "\n",
    "[Cwiczenie_3_7_7](cwiczenia/cwiczenie_3_7_7.md)\n",
    "\n",
    "\n",
    "Masz daną listę zakupów:\n",
    "\n",
    "```python\n",
    "zakupy = [\"jajka\", \"mleko\", \"masło\", \"jajka\", \"chleb\", \"masło\", \"ser\", \"jajka\"]\n",
    "```\n",
    "\n",
    "Napisz funkcję, która:\n",
    "\n",
    "1. Zwróci zbiór wszystkich unikalnych produktów na liście.\n",
    "2. Zwróci słownik, gdzie kluczem jest nazwa produktu, a wartością ilość wystąpień na liście zakupów."
   ]
  },
  {
   "cell_type": "markdown",
   "id": "fc996248",
   "metadata": {},
   "source": [
    "%%writefile cwiczenia/cwiczenie_3_7_8.md\n",
    "\n",
    "### 📝 Ćwiczenie: Konwersja danych\n",
    "\n",
    "[Cwiczenie_3_7_7](cwiczenia/cwiczenie_3_7_8.md)\n",
    "\n",
    "Masz dane:\n",
    "\n",
    "```python\n",
    "dane = \"Anna 25, Tomasz 30, Ewa 28, Jan 35\"\n",
    "```\n",
    "\n",
    "Napisz funkcję, która przekształci ten tekst w słownik, gdzie kluczem będzie imię, a wartością wiek. Następnie, na podstawie tego słownika, utwórz listę tylko tych osób, które mają więcej niż 30 lat."
   ]
  }
 ],
 "metadata": {
  "authors": [
   {
    "name": "Rafał Korzeniewski"
   }
  ],
  "kernelspec": {
   "display_name": "Python 3 (ipykernel)",
   "language": "python",
   "name": "python3"
  },
  "language_info": {
   "codemirror_mode": {
    "name": "ipython",
    "version": 3
   },
   "file_extension": ".py",
   "mimetype": "text/x-python",
   "name": "python",
   "nbconvert_exporter": "python",
   "pygments_lexer": "ipython3",
   "version": "3.10.7"
  },
  "title": "Kurs Python Średniozaawansowany - 03 - wbudowane kolekcje",
  "toc": {
   "base_numbering": 1,
   "nav_menu": {},
   "number_sections": true,
   "sideBar": true,
   "skip_h1_title": false,
   "title_cell": "Table of Contents",
   "title_sidebar": "Contents",
   "toc_cell": false,
   "toc_position": {
    "height": "calc(100% - 180px)",
    "left": "10px",
    "top": "150px",
    "width": "410.867px"
   },
   "toc_section_display": true,
   "toc_window_display": true
  }
 },
 "nbformat": 4,
 "nbformat_minor": 5
}
