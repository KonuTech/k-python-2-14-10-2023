{
 "cells": [
  {
   "cell_type": "markdown",
   "id": "ee504dc1-ef97-41a4-bffe-65e0a9712ca3",
   "metadata": {},
   "source": [
    "# Podstawy\n",
    "\n",
    "[link](01_interpreter_slowa_kluczowe_operatory.ipynb)\n",
    "\n",
    "# Wbudowane typy\n",
    "\n",
    "[link](02_wbudowane_kolekcje.ipynb)\n",
    "\n",
    "\n",
    "# Wbudowane kolekcje\n",
    "[link](03_wbudowane_kolekcje.ipynb)\n",
    "\n",
    "# Wyrażenia (Comprehensions) i Generatory w Pythonie\n",
    "\n",
    "Comprehensions to skrótowe i wyraźne metody tworzenia kolekcji w Pythonie, takich jak listy, zbiory i słowniki. Pozwalają na generowanie tych kolekcji w jednej linii kodu, co czyni je bardziej zwięzłymi niż tradycyjne pętle. Comprehensions są często używane w Pythonie ze względu na swoją elegancję i czytelność.\n",
    "\n",
    "Istnieją trzy główne rodzaje comprehensions w Pythonie:\n",
    "\n",
    "1. **List Comprehensions**:\n",
    "   List comprehensions pozwalają na tworzenie listy na podstawie innego obiektu iterowalnego, na przykład listy, zbioru czy krotki. Oto prosty przykład:\n",
    "\n",
    "   ```python\n",
    "   numbers = [1, 2, 3, 4, 5]\n",
    "   squared_numbers = [x**2 for x in numbers]\n",
    "   ```\n",
    "\n",
    "   W tym przypadku `squared_numbers` będzie zawierać kwadraty liczb z listy `numbers`."
   ]
  },
  {
   "cell_type": "code",
   "execution_count": null,
   "id": "edaf0844-2e5f-49ec-b284-bcfa84b543b3",
   "metadata": {},
   "outputs": [],
   "source": [
    "numbers = [1, 2, 3, 4, 5]\n",
    "squared_numbers = (x**2 for x in numbers if x % 2 == 0 )\n",
    "squared_numbers"
   ]
  },
  {
   "cell_type": "markdown",
   "id": "cd602759-f428-4990-9866-4e4457e8728a",
   "metadata": {},
   "source": [
    "2. **Set Comprehensions**:\n",
    "   Set comprehensions działają podobnie do list comprehensions, ale tworzą zbiór zamiast listy. Dzięki temu można łatwo pozbyć się duplikatów. Przykład:\n",
    "\n",
    "   ```python\n",
    "   numbers = [1, 2, 2, 3, 4, 4, 5]\n",
    "   unique_numbers: set = {x for x in numbers}\n",
    "   ```\n",
    "\n",
    "   W rezultacie `unique_numbers` będzie zawierać tylko unikalne wartości.\n",
    "\n",
    "3. **Dictionary Comprehensions**:\n",
    "   Dictionary comprehensions pozwalają na tworzenie słowników w sposób zrozumiały i kompaktowy. Przykład:\n",
    "\n",
    "   ```python\n",
    "   names = [\"Alice\", \"Bob\", \"Charlie\"]\n",
    "   name_lengths = {name: len(name) for name in names}\n",
    "   ```\n",
    "\n",
    "   Tutaj `name_lengths` będzie zawierać długości imion jako wartości i same imiona jako klucze."
   ]
  },
  {
   "cell_type": "markdown",
   "id": "97668baf-4c16-4ff4-86b3-214062eb9fbe",
   "metadata": {},
   "source": [
    "## Czym są Generatory?"
   ]
  },
  {
   "cell_type": "code",
   "execution_count": null,
   "id": "62eb58e1-9ae9-4caa-bf67-f04f1e2234bc",
   "metadata": {},
   "outputs": [],
   "source": [
    "lista = [1, 2, 3]\n",
    "\n",
    "list_iterator = iter(lista)\n",
    "next(list_iterator)\n",
    "next(list_iterator)\n"
   ]
  },
  {
   "cell_type": "code",
   "execution_count": null,
   "id": "818874e0-f324-43d6-81e0-111af72b7d91",
   "metadata": {},
   "outputs": [],
   "source": [
    "next(list_iterator)"
   ]
  },
  {
   "cell_type": "code",
   "execution_count": null,
   "id": "05a1040b-5482-4bfe-ae12-dd5a9ec71f3c",
   "metadata": {},
   "outputs": [],
   "source": [
    "for el in lista:\n",
    "    print(el)\n",
    "\n",
    "i = iter(lista)\n",
    "while True:\n",
    "    try:\n",
    "        print(next(i))\n",
    "    except StopIteration:\n",
    "        break"
   ]
  },
  {
   "cell_type": "markdown",
   "id": "a195cb27-d2e1-43b5-812d-d0a3d77a59a6",
   "metadata": {},
   "source": [
    "Generatory to specjalny rodzaj sekwencji w Pythonie, które generują wartości na żądanie (lazy evaluation). Generatory nie przechowują wszystkich wygenerowanych danych w pamięci, co jest szczególnie przydatne w przypadku dużych zbiorów danych, ponieważ oszczędzają pamięć.\n",
    "\n",
    "Generatory definiuje się za pomocą funkcji z użyciem słowa kluczowego `yield`. Gdy funkcja zawiera `yield`, staje się generatorem. Generatory można iterować, używając pętli `for`, a wartości są generowane w miarę potrzeby.\n",
    "\n",
    "Oto przykład prostego generatora:\n",
    "\n",
    "```python\n",
    "def simple_generator():\n",
    "    yield 1\n",
    "    yield 2\n",
    "    yield 3\n",
    "\n",
    "gen = simple_generator()\n",
    "\n",
    "for value in gen:\n",
    "    print(value)\n",
    "```\n",
    "\n",
    "Ten kod wypisze liczby od 1 do 3, generując je na żądanie."
   ]
  },
  {
   "cell_type": "code",
   "execution_count": null,
   "id": "9da0fc40-90d0-4b01-ba8d-5607c44c980b",
   "metadata": {},
   "outputs": [],
   "source": [
    "def simple_generator():\n",
    "    yield 1\n",
    "    yield 2\n",
    "    yield 3\n",
    "\n",
    "gen = simple_generator()\n",
    "\n",
    "next(gen)"
   ]
  },
  {
   "cell_type": "code",
   "execution_count": null,
   "id": "947316a7-0b0a-43ea-8455-96490cf874ba",
   "metadata": {},
   "outputs": [],
   "source": [
    "def odd_generator(start=1):\n",
    "    while True:\n",
    "        yield start\n",
    "        start += 2\n",
    "\n",
    "odd = odd_generator()"
   ]
  },
  {
   "cell_type": "code",
   "execution_count": null,
   "id": "55fbe46b-92bc-47c2-9c30-2f23a361a527",
   "metadata": {},
   "outputs": [],
   "source": [
    "next(odd)"
   ]
  },
  {
   "cell_type": "code",
   "execution_count": null,
   "id": "ec96eb52-9249-4913-831d-08ee9bee2e36",
   "metadata": {},
   "outputs": [],
   "source": [
    "def odd_generator(start=1):\n",
    "    for i in range(3):\n",
    "        yield i\n",
    "\n",
    "\n",
    "odd = odd_generator()\n",
    "\n",
    "next(odd)"
   ]
  },
  {
   "cell_type": "markdown",
   "id": "702500de-1eec-4bd1-8278-1dd28bbaf74e",
   "metadata": {},
   "source": [
    "Cwiczenie - zrob generattor, który bedzie zwracac na przemian 1 i 2 "
   ]
  },
  {
   "cell_type": "code",
   "execution_count": null,
   "id": "dc28898a-2b86-438c-824a-3139b97848ac",
   "metadata": {},
   "outputs": [],
   "source": [
    "def generator(start=1):\n",
    "    while True:\n",
    "        yield 1\n",
    "        yield 2\n",
    "\n",
    "odd = generator()\n",
    "for i in range(10):\n",
    "    print(next(odd))"
   ]
  },
  {
   "cell_type": "code",
   "execution_count": null,
   "id": "f48bbc8f-5851-4872-a485-c1eeb1ac1a17",
   "metadata": {},
   "outputs": [],
   "source": [
    "next(odd)"
   ]
  },
  {
   "cell_type": "code",
   "execution_count": null,
   "id": "2541df45-a126-40c3-abd8-edea35c277f3",
   "metadata": {},
   "outputs": [],
   "source": [
    "def jeden_dwa(i=1):\n",
    "    while True:\n",
    "        yield i\n",
    "        if i == 1:\n",
    "            i = 2\n",
    "        else:\n",
    "            i = 1\n",
    "\n",
    "jd = jeden_dwa()\n",
    "\n"
   ]
  },
  {
   "cell_type": "code",
   "execution_count": null,
   "id": "8e2222a6-e395-49ff-a24a-a527dd922773",
   "metadata": {},
   "outputs": [],
   "source": [
    "next(jd)"
   ]
  },
  {
   "cell_type": "markdown",
   "id": "8bcdd21e-5830-4074-950b-41e0007e54d5",
   "metadata": {},
   "source": [
    "## Wyrażenia Generatorowe\n",
    "\n",
    "Podobnie jak comprehensions pozwalają na tworzenie list, zbiorów i słowników, wyrażenia generatorowe pozwalają na tworzenie generatorów w sposób zrozumiały i kompaktowy. Wyrażenia te są podobne do list comprehensions, ale zamiast tworzyć listę, generują wartości jedną po drugiej.\n",
    "\n",
    "Oto przykład wyrażenia generatorowego:\n",
    "\n",
    "```python\n",
    "numbers = [1, 2, 3, 4, 5]\n",
    "squared_generator = (x**2 for x in numbers)\n",
    "\n",
    "for value in squared_generator:\n",
    "    print(value)\n",
    "```\n",
    "\n",
    "To wyrażenie generatorowe generuje kwadraty liczb z listy `numbers` na żądanie i wypisuje je."
   ]
  },
  {
   "cell_type": "markdown",
   "id": "19be6867-e355-4270-8b4d-f78f2e94f9e2",
   "metadata": {},
   "source": [
    "## Korzyści z Wykorzystania Comprehensions i Generators\n",
    "\n",
    "Wyrażenia zrozumiałe i generatory mają wiele zalet:\n",
    "\n",
    "1. **Czytelność kodu**: Comprehensions i wyrażenia generatorowe sprawiają, że kod jest bardziej zrozumiały i czytelny, ponieważ zawiera mniej zbędnego \"szumu\" w postaci pętli i warunków.\n",
    "\n",
    "2. **Krótszy kod**: Comprehensions i wyrażenia generatorowe pozwalają na zapisanie operacji w jednej linii kodu, co oznacza, że można osiągnąć to samo za pomocą mniej znaków.\n",
    "\n",
    "3. **Oszczędność pamięci**: Generatory pozwalają na leniwe generowanie danych, co oszczędza pamięć, szczególnie przy dużych zbiorach danych.\n",
    "\n",
    "4. **Szybkość**: Comprehensions i generatory są często szybsze od tradycyjnych pętli, ponieważ są zoptymalizowane wewnętrznie przez interpreter Pythona."
   ]
  },
  {
   "cell_type": "markdown",
   "id": "e6f1c808-8443-4e39-a1c7-25c067dce9f4",
   "metadata": {},
   "source": [
    "## Przykłady Zastosowań\n",
    "\n",
    "Comprehensions i generatory znajdują szerokie zastosowanie w rzeczywistych projektach Pythona. Oto kilka przykładów, gdzie mogą być używane:\n",
    "\n",
    "### Przetwarzanie i Analiza Danych\n",
    "\n",
    "Generatory są szczególnie przydatne do przetwarzania dużych zbiorów danych, takich jak logi serwerów, pliki CSV lub dane z bazy danych. Generowanie danych na żądanie pozwala na efektywne przetwarzanie i analizę danych bez konieczności wczytywania ich wszystkich do pamięci.\n",
    "\n",
    "### Tworzenie Strumieni Danych\n",
    "\n",
    "Generatory są często używane do tworzenia strumieni danych, na przykład podczas czytania i przetwarzania plików w trybie strumieniowym.\n",
    "\n",
    "### Optymalizacja Obliczeń\n",
    "\n",
    "Comprehensions i generatory pozwalają na zoptymalizowanie obliczeń, zwłaszcza w przypadku operacji na dużych ilościach danych, poprzez leniwe generowanie i przetwarzanie danych.\n",
    "\n",
    "### Podsumowanie\n",
    "\n",
    "Wyrażenia zrozumiałe (comprehensions) i generatory są potężnymi narzędziami w Pythonie, które pozwalają na zwięzłe i czytelne tworzenie kolekcji i generowanie danych na żądanie. Są często używane w praktyce programistycznej, aby zwiększyć czytelność, skrócić kod oraz zoptymalizować przetwarzanie danych. Zrozumienie ich działania i umiejętność ich wykorzystania może znacząco poprawić jakość i wydajność kodu w języku Python."
   ]
  },
  {
   "cell_type": "code",
   "execution_count": null,
   "id": "1f3f2be6-af83-49dd-b1ab-2a255d4497aa",
   "metadata": {},
   "outputs": [],
   "source": [
    "x = [1,2,3]\n",
    "\n",
    "with open(\"plik.txt\", \"w\") as f:\n",
    "    for el in x:\n",
    "        f.write(f\"{el}\\n\")"
   ]
  },
  {
   "cell_type": "code",
   "execution_count": null,
   "id": "465a7ec7-e4b2-4b25-9ea7-1f37b577b775",
   "metadata": {},
   "outputs": [],
   "source": [
    "!type plik.txt"
   ]
  },
  {
   "cell_type": "markdown",
   "id": "9242b10d-5e07-42e4-a255-5f8ab26c37a8",
   "metadata": {},
   "source": [
    "%%writefile cwiczenia/cwiczenie_4_4_5.md\n",
    "\n",
    "### 📝 Ćwiczenie: Analiza Danych z pliku CSV\n",
    "\n",
    "[Cwiczenie_4_4_5](cwiczenia/cwiczenie_4_4_5.md)\n",
    "\n",
    "\n",
    "\n",
    "**Opis zadania:**\n",
    "\n",
    "Twoim zadaniem jest przetworzenie danych z pliku CSV zawierającego informacje o produktach w sklepie spożywczym. Plik CSV ma następującą strukturę:\n",
    "\n",
    "```\n",
    "Produkt,Kategoria,Cena,Ilość\n",
    "Chleb,Pieczywo,2.50,10\n",
    "Mleko,Nabiał,1.20,20\n",
    "Jajka,Nabiał,1.80,30\n",
    "Pomarańcze,Owoce,2.00,15\n",
    "...\n",
    "```\n",
    "\n",
    "Twoje zadanie składa się z trzech części:\n",
    "\n",
    "#### Przygotowanie - zapis danych do pliku\n",
    "\n",
    "#### Część 1\n",
    "\n",
    "Napisz skrypt w Pythonie, który wczytuje dane z pliku CSV i używa dict comprehebsion do stworzenia słownika, gdzie kluczem jest nazwa kategorii, a wartością jest lista produktów należących do tej kategorii. Na przykład:\n",
    "\n",
    "```python\n",
    "{\n",
    "    'Pieczywo': ['Chleb'],\n",
    "    'Nabiał': ['Mleko', 'Jajka'],\n",
    "    'Owoce': ['Pomarańcze'],\n",
    "    ...\n",
    "}\n",
    "```\n",
    "\n",
    "#### **Część 2:**\n",
    "\n",
    "Napisz generator, który generuje informacje o produktach, których cena przekracza określoną wartość. Generator powinien generować te informacje na żądanie, aby uniknąć wczytywania wszystkich danych do pamięci naraz.\n",
    "\n",
    "Po zakończeniu zadania, skrypt powinien wypisać informacje o produktach, których cena przekracza 2.00 złotych.\n",
    "\n",
    "**Wskazówki:**\n",
    "\n",
    "1. Możesz użyć modułu `csv` w Pythonie do wczytania danych z pliku CSV.\n",
    "\n",
    "2. Wyrażenie zrozumiałe może pomóc w grupowaniu produktów według kategorii.\n",
    "\n",
    "3. Generatory pozwalają na leniwe przetwarzanie danych, co jest przydatne przy dużych zbiorach danych.\n",
    "\n",
    "4. Przemyśl, jak przechowywać dane w słowniku w taki sposób, aby były łatwo dostępne w części 2 zadania.\n",
    "\n",
    "To zadanie pozwoli Ci praktycznie wykorzystać wyrażenia zrozumiałe do grupowania danych i generatory do przetwarzania dużych zbiorów danych w sposób efektywny."
   ]
  },
  {
   "cell_type": "code",
   "execution_count": null,
   "id": "d8d8e352-fba2-4bd9-8ed9-9e8bf88fc12b",
   "metadata": {},
   "outputs": [],
   "source": [
    "with open(\"products.csv\", \"w\") as f:\n",
    "    f.write(\"\"\"Produkt,Kategoria,Cena,Ilość\n",
    "Chleb,Pieczywo,2.50,10\n",
    "Mleko,Nabiał,1.20,20\n",
    "Jajka,Nabiał,1.80,30\n",
    "Pomarańcze,Owoce,2.00,15\"\"\")"
   ]
  },
  {
   "cell_type": "code",
   "execution_count": null,
   "id": "6882214e-8ea0-472a-bdf6-5459c10452c4",
   "metadata": {},
   "outputs": [],
   "source": [
    "import csv\n",
    "\n",
    "# Część 1: Wyrażenie zrozumiałe typu słownikowego do grupowania produktów według kategorii\n",
    "def group_products_by_category(csv_file):\n",
    "    with open(csv_file, 'r', newline='') as file:\n",
    "        reader = csv.DictReader(file)\n",
    "        return {row['Kategoria']: [row['Produkt']] for row in reader}\n",
    "\n",
    "csv_file = 'products.csv'\n",
    "category_product_dict = group_products_by_category(csv_file)\n",
    "print(\"Produkty według kategorii:\")\n",
    "for category, products in category_product_dict.items():\n",
    "    print(f\"{category}: {', '.join(products)}\")\n",
    "\n",
    "# Część 2: Generator produktów o wybranej cenie\n",
    "def filter_products_by_price(csv_file, price_threshold):\n",
    "    with open(csv_file, 'r', newline='') as file:\n",
    "        reader = csv.DictReader(file)\n",
    "        for row in reader:\n",
    "            product = row['Produkt']\n",
    "            price = float(row['Cena'])\n",
    "            if price > price_threshold:\n",
    "                yield f\"Produkt: {product}, Cena: {price:.2f} zł\"\n",
    "\n",
    "price_threshold = 2.00  # Próg ceny\n",
    "print(f\"\\nProdukty o cenie powyżej {price_threshold} zł:\")\n",
    "product_generator = filter_products_by_price(csv_file, price_threshold)\n",
    "for product_info in product_generator:\n",
    "    print(product_info)\n"
   ]
  }
 ],
 "metadata": {
  "authors": [
   {
    "name": "Rafał Korzeniewski"
   }
  ],
  "kernelspec": {
   "display_name": "Python 3 (ipykernel)",
   "language": "python",
   "name": "python3"
  },
  "language_info": {
   "codemirror_mode": {
    "name": "ipython",
    "version": 3
   },
   "file_extension": ".py",
   "mimetype": "text/x-python",
   "name": "python",
   "nbconvert_exporter": "python",
   "pygments_lexer": "ipython3",
   "version": "3.10.7"
  },
  "title": "Kurs Python Średniozaawansowany - 03 - wbudowane kolekcje",
  "toc": {
   "base_numbering": 1,
   "nav_menu": {},
   "number_sections": true,
   "sideBar": true,
   "skip_h1_title": false,
   "title_cell": "Table of Contents",
   "title_sidebar": "Contents",
   "toc_cell": false,
   "toc_position": {
    "height": "calc(100% - 180px)",
    "left": "10px",
    "top": "150px",
    "width": "410.867px"
   },
   "toc_section_display": true,
   "toc_window_display": true
  }
 },
 "nbformat": 4,
 "nbformat_minor": 5
}
