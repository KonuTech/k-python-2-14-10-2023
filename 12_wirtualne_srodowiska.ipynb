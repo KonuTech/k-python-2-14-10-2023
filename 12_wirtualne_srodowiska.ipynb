{
 "cells": [
  {
   "cell_type": "markdown",
   "source": [
    "# Wirtualne Środowiska w Pythonie: \n",
    "\n",
    "W Pythonie tak jak w przypadku wielu innych języków, zarządzanie zależnościami i środowiskiem programistycznym może stanowić wyzwanie. \n",
    "Na szczęście Python oferuje narzędzie, które pomaga rozwiązać ten problem - wirtualne środowiska. W tym artykule przyjrzymy się, dlaczego wirtualne środowiska są ważne, jak je tworzyć i zarządzać oraz dlaczego są kluczowe w procesie programowania w Pythonie.\n",
    "\n",
    "Problemy z zależnościami w kontekście programowania odnoszą się do sytuacji, w których oprogramowanie nie może działać poprawnie lub w ogóle z powodu konfliktów, błędnych wersji lub brakujących bibliotek lub modułów, na których polega. Problemy te są szczególnie powszechne w projektach oprogramowania, które korzystają z wielu zależności lub modułów oprogramowania. \n",
    "\n",
    "Oto kilka przykładów problemów z zależnościami:"
   ],
   "metadata": {
    "collapsed": false
   },
   "id": "7e1447242cf458e3"
  },
  {
   "cell_type": "markdown",
   "source": [
    "\n",
    "1. **Konflikty wersji:** Konflikty wersji występują, gdy projekty wymaga różnych wersji tej samej biblioteki lub modułu, co może prowadzić do sprzeczności. Na przykład, projekt A może wymagać biblioteki \"X\" w wersji 1.0, podczas gdy projekt B potrzebuje tej samej biblioteki, ale w wersji 2.0. Jeśli oba projekty są uruchamiane w jednym środowisku, konflikty wersji mogą prowadzić do nieprawidłowego działania jednego lub obu projektów."
   ],
   "metadata": {
    "collapsed": false
   },
   "id": "adcd1dcf1344628b"
  },
  {
   "cell_type": "markdown",
   "source": [
    "\n",
    "2. **Brakujące zależności:** Brakujące zależności to sytuacja, w której projekt lub aplikacja nie może znaleźć określonych bibliotek lub modułów, których potrzebuje do prawidłowego działania. To może być spowodowane brakiem instalacji tych zależności lub błędami w ścieżkach dostępu. Na przykład, jeśli aplikacja internetowa w Pythonie korzysta z frameworka Flask, ale nie ma go zainstalowanego, to aplikacja nie będzie działać."
   ],
   "metadata": {
    "collapsed": false
   },
   "id": "b17edf6a8b6b32c9"
  },
  {
   "cell_type": "markdown",
   "source": [
    "\n",
    "3. **Cykl zależności:** Cykl zależności występuje, gdy dwie lub więcej zależności nawzajem na siebie zależą. Na przykład, zależność A może wymagać zależności B, a zależność B może wymagać zależności A. Taki cykl może skomplikować proces instalacji i utrzymania oprogramowania oraz prowadzić do błędów i problemów z wydajnością."
   ],
   "metadata": {
    "collapsed": false
   },
   "id": "2b86ca0c46c13c9b"
  },
  {
   "cell_type": "markdown",
   "source": [
    "\n",
    "4. **Problemy zgodności:** Czasem nowa wersja biblioteki lub modułu może być niekompatybilna z wcześniejszymi wersjami. To może prowadzić do problemów, gdy projekt opiera się na starszych wersjach, a aktualizacja do nowszej wersji jest niemożliwa lub generuje błędy. Na przykład, jeśli projekt opiera się na starszej wersji języka Pythona, a nowa biblioteka jest dostępna tylko dla nowszej wersji Pythona, może to generować problemy zgodności."
   ],
   "metadata": {
    "collapsed": false
   },
   "id": "7f37d726d117de06"
  },
  {
   "cell_type": "markdown",
   "source": [
    "\n",
    "5. **Błędy wersji pośrednich:** Błędy wersji pośrednich to sytuacja, w której projekt korzysta z jednej wersji zależności, ale podczas aktualizacji zależności dostępna jest nowa wersja, która wprowadza błąd lub zmiany, które psują działanie projektu. To może prowadzić do utraty funkcjonalności lub wydajności projektu."
   ],
   "metadata": {
    "collapsed": false
   },
   "id": "60b470696c896a65"
  },
  {
   "cell_type": "markdown",
   "source": [
    "Rozwiązywanie problemów z zależnościami jest ważnym aspektem procesu rozwoju oprogramowania. Narzędzia do zarządzania zależnościami, takie jak menedżery pakietów (np. `pip` w Pythonie) i narzędzia do tworzenia wirtualnych środowisk (np. `virtualenv`), pomagają w zarządzaniu konfliktami, kontrolowaniu wersji i zapewnieniu, że projekty są izolowane od siebie nawzajem. Warto również regularnie aktualizować zależności i monitorować zmiany w projektach, aby uniknąć problemów z zależnościami w przyszłości.\n"
   ],
   "metadata": {
    "collapsed": false
   },
   "id": "70de291e43b1a06c"
  },
  {
   "cell_type": "markdown",
   "source": [
    "\n",
    "## **Dlaczego Wirtualne Środowiska w Pythonie są Ważne?**\n",
    "\n",
    "Wirtualne środowiska Pythona pozwalają programistom na izolowanie projektów od siebie nawzajem i od systemowego środowiska Pythona. Dzięki temu można uniknąć konfliktów między wersjami pakietów oraz utrzymywać porządek w projekcie. Oto kilka powodów, dla których warto korzystać z wirtualnych środowisk:\n",
    "\n",
    "**1. Izolacja projektów:** Każdy projekt może korzystać z własnego wirtualnego środowiska, co oznacza, że zależności projektu nie będą kolidować z innymi projektami.\n",
    "\n",
    "**2. Wersjonowanie pakietów:** Wirtualne środowisko pozwala na instalację i zarządzanie wersjami pakietów specyficznych dla danego projektu. To znaczy, że każdy projekt może korzystać z innej wersji danej biblioteki, co jest szczególnie przydatne, gdy starsze projekty nie są kompatybilne z najnowszymi wersjami pakietów.\n",
    "\n",
    "**3. Czystość i porządek:** Wirtualne środowiska pomagają utrzymywać porządek w projekcie, eliminując zbędne zależności i śmieci w globalnym środowisku Pythona."
   ],
   "metadata": {
    "collapsed": false
   },
   "id": "8c79c21cff9d6309"
  },
  {
   "cell_type": "markdown",
   "source": [
    "\n",
    "## Narzędzia do tworzenia wirtualnych środowisk\n",
    "\n",
    "W Pythonie istnieją różne narzędzia do tworzenia wirtualnych środowisk, które pozwalają na izolowanie projektów od siebie nawzajem oraz od globalnych zależności systemu. Oto trzy popularne narzędzia do tworzenia wirtualnych środowisk:\n",
    "\n",
    "1. **virtualenv:** [Dokumentacja](https://virtualenv.pypa.io/en/latest/)\n",
    "\n",
    "   - `virtualenv` to narzędzie, które nie jest dostarczane wraz z instalacją standardową Pythona. Musisz je zainstalować oddzielnie za pomocą narzędzia `pip`.\n",
    "   - Jest to bardziej elastyczne i zaawansowane narzędzie niż `venv`. Pozwala na dostosowywanie wielu aspektów wirtualnego środowiska, takich jak wersja Pythona, interpreter czy lokalizacja, w której ma być utworzone środowisko.\n",
    "   - `virtualenv` jest często używane w bardziej zaawansowanych scenariuszach, zwłaszcza wtedy, gdy masz do czynienia z wieloma projektami i potrzebujesz większej kontroli nad wirtualnym środowiskiem.\n",
    "\n",
    "2. **venv:** [Dokumentacja](https://docs.python.org/3/library/venv.html)\n",
    "\n",
    "   - `venv` to narzędzie, które jest dostarczane razem z Pythonem od wersji 3.3, więc nie musisz go instalować oddzielnie.\n",
    "   - Jest bardziej uproszczone i ma ograniczone możliwości konfiguracyjne w porównaniu do `virtualenv`.\n",
    "   - `venv` jest odpowiednie do prostych projektów, gdzie nie potrzebujesz zaawansowanych opcji konfiguracyjnych, i preferujesz korzystać z narzędzia, które jest już dostępne w standardowej instalacji Pythona.\n",
    "\n",
    "3. **conda:** [Strona domowa](https://conda.io/)\n",
    "\n",
    "   - `conda` to narzędzie do zarządzania pakietami i tworzenia wirtualnych środowisk, które jest szczególnie popularne w ekosystemie Pythona, ale również w innych językach programowania.\n",
    "   - Oprócz izolowania projektów, `conda` pozwala na zarządzanie zależnościami i pakietami w różnych wersjach, co jest przydatne nie tylko w kontekście Pythona, ale także w analizie danych i uczeniu maszynowym.\n",
    "   - Jest to silne narzędzie do tworzenia środowisk oprogramowania, zwłaszcza w naukowym i badawczym kontekście.\n",
    "\n",
    "Wybór narzędzia do tworzenia wirtualnych środowisk zależy od Twoich konkretnych potrzeb i wymagań projektu. Jeśli potrzebujesz zaawansowanych opcji konfiguracyjnych i kontroli, `virtualenv` może być dobrym wyborem. Jeśli preferujesz narzędzie dostępne w standardowej instalacji Pythona i pracujesz nad prostym projektem, `venv` będzie odpowiednie. Natomiast `conda` jest doskonałym wyborem w środowiskach naukowych i analizie danych, gdzie zarządzanie pakietami jest kluczowe."
   ],
   "metadata": {
    "collapsed": false
   },
   "id": "c92a319b8c9ecda3"
  },
  {
   "cell_type": "markdown",
   "source": [
    "\n",
    "## tworzenie środowisk przy pomoct venv\n",
    "\n",
    "`venv` (Virtual Environment) to narzędzie do tworzenia wirtualnych środowisk w Pythonie. Wirtualne środowiska pozwalają izolować projekty od siebie nawzajem oraz od globalnych zależności systemu, co pomaga w zarządzaniu zależnościami i unikaniu konfliktów wersji pakietów. Oto kroki, jak utworzyć wirtualne środowisko przy użyciu `venv`:\n",
    "\n",
    "1. **Sprawdź, czy masz Python 3.3 lub nowszy:** Upewnij się, że na twoim systemie jest zainstalowana odpowiednia wersja Pythona. `venv` jest dostępne od Pythona 3.3, więc konieczne jest korzystanie z tej lub nowszej wersji.\n",
    "\n",
    "2. **Otwórz terminal lub wiersz poleceń:** Uruchom terminal lub wiersz poleceń na swoim systemie operacyjnym.\n",
    "\n",
    "3. **Przejdź do katalogu projektu:** Przejdź do katalogu, w którym chcesz utworzyć wirtualne środowisko. Możesz to zrobić za pomocą polecenia `cd` w terminalu.\n",
    "\n",
    "4. **Utwórz wirtualne środowisko:** Aby utworzyć wirtualne środowisko, użyj polecenia `python -m venv nazwa_srodowiska`, gdzie `nazwa_srodowiska` to nazwa, którą nadajesz swojemu środowisku. Na przykład:\n",
    "\n",
    "   ```bash\n",
    "   python -m venv myenv\n",
    "   ```\n",
    "\n",
    "   Powyższa komenda utworzy wirtualne środowisko o nazwie `myenv`.\n",
    "\n",
    "5. **Aktywuj wirtualne środowisko:** Po utworzeniu wirtualnego środowiska musisz je aktywować. Sposób aktywacji różni się w zależności od systemu operacyjnego:\n",
    "\n",
    "   - **Windows:**\n",
    "\n",
    "     ```bash\n",
    "     myenv\\Scripts\\activate\n",
    "     ```\n",
    "\n",
    "   - **Linux/Mac:**\n",
    "\n",
    "     ```bash\n",
    "     source myenv/bin/activate\n",
    "     ```\n",
    "\n",
    "   Po aktywowaniu wirtualnego środowiska zobaczysz jego nazwę przed znakiem zachęty w terminalu, co oznacza, że jesteś w trybie wirtualnego środowiska.\n",
    "\n",
    "6. **Korzystaj z wirtualnego środowiska:** Teraz możesz instalować zależności i uruchamiać projekty w swoim wirtualnym środowisku. Wszystkie biblioteki i pakiety zainstalowane w tym środowisku będą dostępne tylko w jego zakresie.\n",
    "\n",
    "7. **Dezaktywacja wirtualnego środowiska:** Aby zakończyć pracę w wirtualnym środowisku i wrócić do globalnego środowiska Pythona, możesz użyć polecenia `deactivate`.\n",
    "\n",
    "   ```bash\n",
    "   deactivate\n",
    "   ```\n",
    "\n",
    "Teraz wiesz, jak tworzyć wirtualne środowiska przy pomocy `venv`. Jest to przydatne narzędzie do izolowania projektów i zarządzania zależnościami w Pythonie, co pomaga w utrzymaniu porządku i unikaniu konfliktów wersji bibliotek oraz modułów."
   ],
   "metadata": {
    "collapsed": false
   },
   "id": "a53d2babe1a3d058"
  },
  {
   "cell_type": "markdown",
   "source": [
    "\n",
    "## tworzenie środowisk przy pomocy virtualenv\n",
    "\n",
    "### **1. Instalacja narzędzia `virtualenv` (opcjonalna)**\n",
    "\n",
    "Jeśli nie masz narzędzia `virtualenv`, możesz je zainstalować za pomocą polecenia `pip`:\n",
    "\n",
    "```bash\n",
    "pip install virtualenv\n",
    "```"
   ],
   "metadata": {
    "collapsed": false
   },
   "id": "280cf206e20abfc3"
  },
  {
   "cell_type": "markdown",
   "source": [
    "\n",
    "### **2. Tworzenie Wirtualnego Środowiska**\n",
    "\n",
    "Aby stworzyć nowe wirtualne środowisko, wykonaj polecenie:\n",
    "\n",
    "```bash\n",
    "virtualenv nazwa_srodowiska\n",
    "```\n",
    "\n",
    "Możesz również określić wersję Pythona, którą chcesz użyć, np.:\n",
    "\n",
    "```bash\n",
    "virtualenv -p python3.8 nazwa_srodowiska\n",
    "```\n",
    "\n",
    "### **3. Aktywowanie Wirtualnego Środowiska**\n",
    "\n",
    "Aby aktywować wirtualne środowisko, wykonaj odpowiednie polecenie dostosowane do twojego systemu operacyjnego:\n",
    "\n",
    "**Windows:**\n",
    "\n",
    "```bash\n",
    "nazwa_srodowiska\\Scripts\\activate\n",
    "```\n",
    "\n",
    "**Linux/Mac:**\n",
    "\n",
    "```bash\n",
    "source nazwa_srodowiska/bin/activate\n",
    "```\n",
    "\n",
    "Po aktywowaniu wirtualnego środowiska, zmienne środowiskowe oraz ścieżka Pythona zostaną zmienione na te przypisane do środowiska.\n",
    "\n",
    "### **4. Instalowanie Zależności**\n",
    "\n",
    "Teraz, kiedy twoje wirtualne środowisko jest aktywowane, możesz instalować biblioteki i pakiety, które są potrzebne do twojego projektu za pomocą `pip`. Zależności zostaną zainstalowane tylko w obrębie bieżącego środowiska.\n",
    "\n",
    "### **5. Dezaktywacja Wirtualnego Środowiska**\n",
    "\n",
    "Aby dezaktywować wirtualne środowisko i wrócić do globalnego środowiska Pythona, po prostu wpisz:\n",
    "\n",
    "```bash\n",
    "deactivate\n",
    "```\n",
    "\n",
    "## **Zarządzanie Wirtualnymi Środowiskami**\n",
    "\n",
    "W trakcie pracy nad różnymi projektami może być konieczne zarządzanie wieloma wirtualnymi środowiskami. Do tego celu możesz użyć narzędzi takich jak `virtualenvwrapper` lub `conda`, które ułatwiają zarządzanie wirtualnymi środowiskami.\n",
    "\n",
    "## **Podsumowanie**\n",
    "\n",
    "Wirtualne środowiska w Pythonie są niezwykle przydatne podczas pracy nad różnymi projektami, zwłaszcza jeśli korzystasz z różnych wersji pakietów lub chcesz izolować zależności projektu od systemowego środowiska Pythona. Dzięki nim twój kod będzie bardziej porządkowany i łatwiejszy do zarządzania. To narzędzie jest nieodłączną częścią ekosystemu Pythona i warto nauczyć się go używać, aby ułatwić sobie pracę jako programista Pythona."
   ],
   "metadata": {
    "collapsed": false
   },
   "id": "be2389f65cd221bf"
  },
  {
   "cell_type": "code",
   "execution_count": null,
   "outputs": [],
   "source": [],
   "metadata": {
    "collapsed": false,
    "ExecuteTime": {
     "end_time": "2023-11-10T18:13:40.411966Z",
     "start_time": "2023-11-10T18:13:40.401977Z"
    }
   },
   "id": "72dca525e992abc9"
  },
  {
   "cell_type": "code",
   "execution_count": null,
   "outputs": [],
   "source": [],
   "metadata": {
    "collapsed": false
   },
   "id": "d369331f945ea91"
  }
 ],
 "metadata": {
  "kernelspec": {
   "display_name": "Python 3",
   "language": "python",
   "name": "python3"
  },
  "language_info": {
   "codemirror_mode": {
    "name": "ipython",
    "version": 2
   },
   "file_extension": ".py",
   "mimetype": "text/x-python",
   "name": "python",
   "nbconvert_exporter": "python",
   "pygments_lexer": "ipython2",
   "version": "2.7.6"
  }
 },
 "nbformat": 4,
 "nbformat_minor": 5
}
